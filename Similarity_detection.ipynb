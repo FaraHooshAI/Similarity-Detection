{
  "cells": [
    {
      "cell_type": "code",
      "execution_count": 1,
      "metadata": {
        "colab": {
          "base_uri": "https://localhost:8080/"
        },
        "id": "BqO1T5P4kURS",
        "outputId": "838cbfb7-872c-46d9-e8f8-7fa6db2ba35c"
      },
      "outputs": [
        {
          "output_type": "stream",
          "name": "stdout",
          "text": [
            "Mounted at /content/drive\n"
          ]
        }
      ],
      "source": [
        "from google.colab import drive\n",
        "drive.mount('/content/drive')"
      ]
    },
    {
      "cell_type": "code",
      "execution_count": null,
      "metadata": {
        "id": "7_gelInOkVBo"
      },
      "outputs": [],
      "source": [
        "!unrar x '/content/drive/MyDrive/Cheating Detection/PersianPlagdet2016-text-alignment-corpus.rar'"
      ]
    },
    {
      "cell_type": "code",
      "execution_count": 1,
      "metadata": {
        "id": "I_b47Zq5kU6F"
      },
      "outputs": [],
      "source": [
        "import os\n",
        "\n",
        "folder_path = ['PersianPlagdet2016-text-alignment-train-corpus/src/', 'PersianPlagdet2016-text-alignment-train-corpus/susp/']\n",
        "\n",
        "txt_files = []\n",
        "\n",
        "for folder in folder_path:\n",
        "  for root, dirs, files in os.walk(folder):\n",
        "      for file in files:\n",
        "          if file.endswith(\".txt\"):\n",
        "              txt_files.append(os.path.join(root, file))"
      ]
    },
    {
      "cell_type": "code",
      "execution_count": 2,
      "metadata": {
        "colab": {
          "base_uri": "https://localhost:8080/"
        },
        "id": "_TuU-38Dkkw8",
        "outputId": "16bc5d5d-1d76-46d0-a617-d6aed224b28f"
      },
      "outputs": [
        {
          "output_type": "execute_result",
          "data": {
            "text/plain": [
              "3088"
            ]
          },
          "metadata": {},
          "execution_count": 2
        }
      ],
      "source": [
        "len(txt_files)"
      ]
    },
    {
      "cell_type": "code",
      "execution_count": 3,
      "metadata": {
        "id": "MV0dr2jqkmjQ"
      },
      "outputs": [],
      "source": [
        "import io\n",
        "\n",
        "\n",
        "txt_collection = {}\n",
        "\n",
        "for file in txt_files:\n",
        "    with io.open(file, 'r', encoding='utf-8') as f:\n",
        "        txt_collection[file] = f.read()"
      ]
    },
    {
      "cell_type": "code",
      "execution_count": null,
      "metadata": {
        "id": "gStQ6X01kpJf"
      },
      "outputs": [],
      "source": [
        "!pip install hazm"
      ]
    },
    {
      "cell_type": "code",
      "execution_count": 4,
      "metadata": {
        "colab": {
          "base_uri": "https://localhost:8080/"
        },
        "id": "qbd8QlJJksVZ",
        "outputId": "c8b8ed59-4cf6-4c57-9ff1-927535785c4c"
      },
      "outputs": [
        {
          "output_type": "stream",
          "name": "stderr",
          "text": [
            "100%|██████████| 3088/3088 [00:46<00:00, 66.33it/s] \n"
          ]
        }
      ],
      "source": [
        "from hazm import *\n",
        "import tqdm\n",
        "\n",
        "\n",
        "\n",
        "hazm_normalizer = Normalizer()\n",
        "\n",
        "txt_sentences = {}\n",
        "txt_norm_tokenize = {}\n",
        "\n",
        "for file in tqdm.tqdm(txt_collection):\n",
        "\n",
        "    normalized_txt = hazm_normalizer.normalize(txt_collection[file])\n",
        "    sentences = sent_tokenize(normalized_txt)\n",
        "    txt_sentences[file] = sentences\n",
        "    temp = []\n",
        "\n",
        "    for sent in sentences:\n",
        "        temp += [word_tokenize(sent)]\n",
        "\n",
        "    txt_norm_tokenize[file] = temp"
      ]
    },
    {
      "cell_type": "code",
      "execution_count": 6,
      "metadata": {
        "id": "RF4xTAqcnk1K"
      },
      "outputs": [],
      "source": [
        "import codecs\n",
        "\n",
        "stop_path = '/content/drive/MyDrive/Cheating Detection/persian_stopwords.txt'\n",
        "stopwords = [hazm_normalizer.normalize(x.strip()) for x in codecs.open(stop_path,'r','utf-8').readlines()]"
      ]
    },
    {
      "cell_type": "code",
      "execution_count": 7,
      "metadata": {
        "colab": {
          "base_uri": "https://localhost:8080/"
        },
        "id": "juaRJIGHn35_",
        "outputId": "e55dcd51-bbb5-419e-8d3f-d0fe8b42e46f"
      },
      "outputs": [
        {
          "output_type": "stream",
          "name": "stderr",
          "text": [
            "100%|██████████| 3088/3088 [00:22<00:00, 138.70it/s]\n"
          ]
        }
      ],
      "source": [
        "lemmatizer = Lemmatizer()\n",
        "\n",
        "\n",
        "all_tokens_nonstop = {}\n",
        "\n",
        "for file in tqdm.tqdm(txt_norm_tokenize):\n",
        "    temp = []\n",
        "    for token_list in txt_norm_tokenize[file]:\n",
        "        temp2 = []\n",
        "        temp2 += [lemmatizer.lemmatize(t.replace(\"_\", \"\")) for t in token_list if t not in stopwords]\n",
        "        temp += [temp2]\n",
        "    all_tokens_nonstop[file] = temp"
      ]
    },
    {
      "cell_type": "code",
      "execution_count": 9,
      "metadata": {
        "id": "F_qRQbRApSFG"
      },
      "outputs": [],
      "source": [
        "file = open('/content/PersianPlagdet2016-text-alignment-train-corpus/pairs', \"r\")\n",
        "\n",
        "content = file.read()\n",
        "\n",
        "file.close()"
      ]
    },
    {
      "cell_type": "code",
      "execution_count": 10,
      "metadata": {
        "id": "rbgtRfZTo_1e"
      },
      "outputs": [],
      "source": [
        "pairs_dict = {'suspicious': [], 'source': []}\n",
        "\n",
        "for row in content.split('\\n'):\n",
        "    temp = row.split(' ')\n",
        "    if len(temp) == 2:\n",
        "        susp, src = temp\n",
        "    pairs_dict['suspicious'] += [susp]\n",
        "    pairs_dict['source'] += [src]"
      ]
    },
    {
      "cell_type": "code",
      "execution_count": 11,
      "metadata": {
        "id": "-N1cAuY-pvTi"
      },
      "outputs": [],
      "source": [
        "import pandas as pd\n",
        "\n",
        "\n",
        "df = pd.DataFrame(pairs_dict)"
      ]
    },
    {
      "cell_type": "code",
      "execution_count": 12,
      "metadata": {
        "colab": {
          "base_uri": "https://localhost:8080/",
          "height": 423
        },
        "id": "Av_I5aHUpwqs",
        "outputId": "05ed6fa2-503f-4b96-ad78-b2b043b51eae"
      },
      "outputs": [
        {
          "output_type": "execute_result",
          "data": {
            "text/plain": [
              "                              suspicious                          source\n",
              "0     suspicious-document00001100017.txt  source-document00001222909.txt\n",
              "1     suspicious-document00001100593.txt  source-document00001183668.txt\n",
              "2      suspicious-document0000110086.txt  source-document00001405402.txt\n",
              "3     suspicious-document00001101968.txt  source-document00001213543.txt\n",
              "4     suspicious-document00001102809.txt  source-document00001320655.txt\n",
              "...                                  ...                             ...\n",
              "2745   suspicious-document0000187571.txt    source-document000012725.txt\n",
              "2746   suspicious-document0000194397.txt  source-document00001307951.txt\n",
              "2747   suspicious-document0000194397.txt  source-document00001308967.txt\n",
              "2748   suspicious-document0000198379.txt  source-document00001293130.txt\n",
              "2749   suspicious-document0000198379.txt  source-document00001293130.txt\n",
              "\n",
              "[2750 rows x 2 columns]"
            ],
            "text/html": [
              "\n",
              "\n",
              "  <div id=\"df-cd13c593-7a99-4b8e-a0f5-03e4d169e461\">\n",
              "    <div class=\"colab-df-container\">\n",
              "      <div>\n",
              "<style scoped>\n",
              "    .dataframe tbody tr th:only-of-type {\n",
              "        vertical-align: middle;\n",
              "    }\n",
              "\n",
              "    .dataframe tbody tr th {\n",
              "        vertical-align: top;\n",
              "    }\n",
              "\n",
              "    .dataframe thead th {\n",
              "        text-align: right;\n",
              "    }\n",
              "</style>\n",
              "<table border=\"1\" class=\"dataframe\">\n",
              "  <thead>\n",
              "    <tr style=\"text-align: right;\">\n",
              "      <th></th>\n",
              "      <th>suspicious</th>\n",
              "      <th>source</th>\n",
              "    </tr>\n",
              "  </thead>\n",
              "  <tbody>\n",
              "    <tr>\n",
              "      <th>0</th>\n",
              "      <td>suspicious-document00001100017.txt</td>\n",
              "      <td>source-document00001222909.txt</td>\n",
              "    </tr>\n",
              "    <tr>\n",
              "      <th>1</th>\n",
              "      <td>suspicious-document00001100593.txt</td>\n",
              "      <td>source-document00001183668.txt</td>\n",
              "    </tr>\n",
              "    <tr>\n",
              "      <th>2</th>\n",
              "      <td>suspicious-document0000110086.txt</td>\n",
              "      <td>source-document00001405402.txt</td>\n",
              "    </tr>\n",
              "    <tr>\n",
              "      <th>3</th>\n",
              "      <td>suspicious-document00001101968.txt</td>\n",
              "      <td>source-document00001213543.txt</td>\n",
              "    </tr>\n",
              "    <tr>\n",
              "      <th>4</th>\n",
              "      <td>suspicious-document00001102809.txt</td>\n",
              "      <td>source-document00001320655.txt</td>\n",
              "    </tr>\n",
              "    <tr>\n",
              "      <th>...</th>\n",
              "      <td>...</td>\n",
              "      <td>...</td>\n",
              "    </tr>\n",
              "    <tr>\n",
              "      <th>2745</th>\n",
              "      <td>suspicious-document0000187571.txt</td>\n",
              "      <td>source-document000012725.txt</td>\n",
              "    </tr>\n",
              "    <tr>\n",
              "      <th>2746</th>\n",
              "      <td>suspicious-document0000194397.txt</td>\n",
              "      <td>source-document00001307951.txt</td>\n",
              "    </tr>\n",
              "    <tr>\n",
              "      <th>2747</th>\n",
              "      <td>suspicious-document0000194397.txt</td>\n",
              "      <td>source-document00001308967.txt</td>\n",
              "    </tr>\n",
              "    <tr>\n",
              "      <th>2748</th>\n",
              "      <td>suspicious-document0000198379.txt</td>\n",
              "      <td>source-document00001293130.txt</td>\n",
              "    </tr>\n",
              "    <tr>\n",
              "      <th>2749</th>\n",
              "      <td>suspicious-document0000198379.txt</td>\n",
              "      <td>source-document00001293130.txt</td>\n",
              "    </tr>\n",
              "  </tbody>\n",
              "</table>\n",
              "<p>2750 rows × 2 columns</p>\n",
              "</div>\n",
              "      <button class=\"colab-df-convert\" onclick=\"convertToInteractive('df-cd13c593-7a99-4b8e-a0f5-03e4d169e461')\"\n",
              "              title=\"Convert this dataframe to an interactive table.\"\n",
              "              style=\"display:none;\">\n",
              "\n",
              "  <svg xmlns=\"http://www.w3.org/2000/svg\" height=\"24px\"viewBox=\"0 0 24 24\"\n",
              "       width=\"24px\">\n",
              "    <path d=\"M0 0h24v24H0V0z\" fill=\"none\"/>\n",
              "    <path d=\"M18.56 5.44l.94 2.06.94-2.06 2.06-.94-2.06-.94-.94-2.06-.94 2.06-2.06.94zm-11 1L8.5 8.5l.94-2.06 2.06-.94-2.06-.94L8.5 2.5l-.94 2.06-2.06.94zm10 10l.94 2.06.94-2.06 2.06-.94-2.06-.94-.94-2.06-.94 2.06-2.06.94z\"/><path d=\"M17.41 7.96l-1.37-1.37c-.4-.4-.92-.59-1.43-.59-.52 0-1.04.2-1.43.59L10.3 9.45l-7.72 7.72c-.78.78-.78 2.05 0 2.83L4 21.41c.39.39.9.59 1.41.59.51 0 1.02-.2 1.41-.59l7.78-7.78 2.81-2.81c.8-.78.8-2.07 0-2.86zM5.41 20L4 18.59l7.72-7.72 1.47 1.35L5.41 20z\"/>\n",
              "  </svg>\n",
              "      </button>\n",
              "\n",
              "\n",
              "\n",
              "    <div id=\"df-20116703-114e-415e-a4b5-3f1b88367b03\">\n",
              "      <button class=\"colab-df-quickchart\" onclick=\"quickchart('df-20116703-114e-415e-a4b5-3f1b88367b03')\"\n",
              "              title=\"Suggest charts.\"\n",
              "              style=\"display:none;\">\n",
              "\n",
              "<svg xmlns=\"http://www.w3.org/2000/svg\" height=\"24px\"viewBox=\"0 0 24 24\"\n",
              "     width=\"24px\">\n",
              "    <g>\n",
              "        <path d=\"M19 3H5c-1.1 0-2 .9-2 2v14c0 1.1.9 2 2 2h14c1.1 0 2-.9 2-2V5c0-1.1-.9-2-2-2zM9 17H7v-7h2v7zm4 0h-2V7h2v10zm4 0h-2v-4h2v4z\"/>\n",
              "    </g>\n",
              "</svg>\n",
              "      </button>\n",
              "    </div>\n",
              "\n",
              "<style>\n",
              "  .colab-df-quickchart {\n",
              "    background-color: #E8F0FE;\n",
              "    border: none;\n",
              "    border-radius: 50%;\n",
              "    cursor: pointer;\n",
              "    display: none;\n",
              "    fill: #1967D2;\n",
              "    height: 32px;\n",
              "    padding: 0 0 0 0;\n",
              "    width: 32px;\n",
              "  }\n",
              "\n",
              "  .colab-df-quickchart:hover {\n",
              "    background-color: #E2EBFA;\n",
              "    box-shadow: 0px 1px 2px rgba(60, 64, 67, 0.3), 0px 1px 3px 1px rgba(60, 64, 67, 0.15);\n",
              "    fill: #174EA6;\n",
              "  }\n",
              "\n",
              "  [theme=dark] .colab-df-quickchart {\n",
              "    background-color: #3B4455;\n",
              "    fill: #D2E3FC;\n",
              "  }\n",
              "\n",
              "  [theme=dark] .colab-df-quickchart:hover {\n",
              "    background-color: #434B5C;\n",
              "    box-shadow: 0px 1px 3px 1px rgba(0, 0, 0, 0.15);\n",
              "    filter: drop-shadow(0px 1px 2px rgba(0, 0, 0, 0.3));\n",
              "    fill: #FFFFFF;\n",
              "  }\n",
              "</style>\n",
              "\n",
              "    <script>\n",
              "      async function quickchart(key) {\n",
              "        const containerElement = document.querySelector('#' + key);\n",
              "        const charts = await google.colab.kernel.invokeFunction(\n",
              "            'suggestCharts', [key], {});\n",
              "      }\n",
              "    </script>\n",
              "\n",
              "\n",
              "      <script>\n",
              "\n",
              "function displayQuickchartButton(domScope) {\n",
              "  let quickchartButtonEl =\n",
              "    domScope.querySelector('#df-20116703-114e-415e-a4b5-3f1b88367b03 button.colab-df-quickchart');\n",
              "  quickchartButtonEl.style.display =\n",
              "    google.colab.kernel.accessAllowed ? 'block' : 'none';\n",
              "}\n",
              "\n",
              "        displayQuickchartButton(document);\n",
              "      </script>\n",
              "      <style>\n",
              "    .colab-df-container {\n",
              "      display:flex;\n",
              "      flex-wrap:wrap;\n",
              "      gap: 12px;\n",
              "    }\n",
              "\n",
              "    .colab-df-convert {\n",
              "      background-color: #E8F0FE;\n",
              "      border: none;\n",
              "      border-radius: 50%;\n",
              "      cursor: pointer;\n",
              "      display: none;\n",
              "      fill: #1967D2;\n",
              "      height: 32px;\n",
              "      padding: 0 0 0 0;\n",
              "      width: 32px;\n",
              "    }\n",
              "\n",
              "    .colab-df-convert:hover {\n",
              "      background-color: #E2EBFA;\n",
              "      box-shadow: 0px 1px 2px rgba(60, 64, 67, 0.3), 0px 1px 3px 1px rgba(60, 64, 67, 0.15);\n",
              "      fill: #174EA6;\n",
              "    }\n",
              "\n",
              "    [theme=dark] .colab-df-convert {\n",
              "      background-color: #3B4455;\n",
              "      fill: #D2E3FC;\n",
              "    }\n",
              "\n",
              "    [theme=dark] .colab-df-convert:hover {\n",
              "      background-color: #434B5C;\n",
              "      box-shadow: 0px 1px 3px 1px rgba(0, 0, 0, 0.15);\n",
              "      filter: drop-shadow(0px 1px 2px rgba(0, 0, 0, 0.3));\n",
              "      fill: #FFFFFF;\n",
              "    }\n",
              "  </style>\n",
              "\n",
              "      <script>\n",
              "        const buttonEl =\n",
              "          document.querySelector('#df-cd13c593-7a99-4b8e-a0f5-03e4d169e461 button.colab-df-convert');\n",
              "        buttonEl.style.display =\n",
              "          google.colab.kernel.accessAllowed ? 'block' : 'none';\n",
              "\n",
              "        async function convertToInteractive(key) {\n",
              "          const element = document.querySelector('#df-cd13c593-7a99-4b8e-a0f5-03e4d169e461');\n",
              "          const dataTable =\n",
              "            await google.colab.kernel.invokeFunction('convertToInteractive',\n",
              "                                                     [key], {});\n",
              "          if (!dataTable) return;\n",
              "\n",
              "          const docLinkHtml = 'Like what you see? Visit the ' +\n",
              "            '<a target=\"_blank\" href=https://colab.research.google.com/notebooks/data_table.ipynb>data table notebook</a>'\n",
              "            + ' to learn more about interactive tables.';\n",
              "          element.innerHTML = '';\n",
              "          dataTable['output_type'] = 'display_data';\n",
              "          await google.colab.output.renderOutput(dataTable, element);\n",
              "          const docLink = document.createElement('div');\n",
              "          docLink.innerHTML = docLinkHtml;\n",
              "          element.appendChild(docLink);\n",
              "        }\n",
              "      </script>\n",
              "    </div>\n",
              "  </div>\n"
            ]
          },
          "metadata": {},
          "execution_count": 12
        }
      ],
      "source": [
        "df"
      ]
    },
    {
      "cell_type": "code",
      "execution_count": 131,
      "metadata": {
        "id": "lxAY1-QztDev"
      },
      "outputs": [],
      "source": [
        "Documents_paths = []\n",
        "\n",
        "susp_path = os.path.join(folder_path[1], df.iloc[3, 0])\n",
        "plag_path = os.path.join(folder_path[0], df.iloc[3, 1])\n",
        "\n",
        "Documents_paths += [susp_path]\n",
        "\n",
        "for i in df.iloc[:, 1]:\n",
        "    Documents_paths += [os.path.join(folder_path[0], i)]\n",
        "\n",
        "Documents_paths = list(dict.fromkeys(Documents_paths))"
      ]
    },
    {
      "cell_type": "code",
      "source": [
        "susp_path"
      ],
      "metadata": {
        "colab": {
          "base_uri": "https://localhost:8080/",
          "height": 36
        },
        "id": "ABSN_WHM44EN",
        "outputId": "15a03a9d-6a98-4b01-f569-a58084d07968"
      },
      "execution_count": 130,
      "outputs": [
        {
          "output_type": "execute_result",
          "data": {
            "text/plain": [
              "'PersianPlagdet2016-text-alignment-train-corpus/susp/suspicious-document00001101968.txt'"
            ],
            "application/vnd.google.colaboratory.intrinsic+json": {
              "type": "string"
            }
          },
          "metadata": {},
          "execution_count": 130
        }
      ]
    },
    {
      "cell_type": "code",
      "source": [
        "plag_path"
      ],
      "metadata": {
        "colab": {
          "base_uri": "https://localhost:8080/",
          "height": 36
        },
        "id": "BtU_qiFZ45VT",
        "outputId": "648edf3e-b59d-468a-fe23-49648e76ef31"
      },
      "execution_count": 132,
      "outputs": [
        {
          "output_type": "execute_result",
          "data": {
            "text/plain": [
              "'PersianPlagdet2016-text-alignment-train-corpus/src/source-document00001213543.txt'"
            ],
            "application/vnd.google.colaboratory.intrinsic+json": {
              "type": "string"
            }
          },
          "metadata": {},
          "execution_count": 132
        }
      ]
    },
    {
      "cell_type": "code",
      "execution_count": 133,
      "metadata": {
        "id": "UWIf9DXquMa4"
      },
      "outputs": [],
      "source": [
        "Documents = []\n",
        "sent_len = {}\n",
        "\n",
        "temp = 0\n",
        "for path in Documents_paths:\n",
        "    sent_len[path] = [temp, len(all_tokens_nonstop[path]) + temp]\n",
        "    temp += len(all_tokens_nonstop[path])\n",
        "    Documents += all_tokens_nonstop[path]"
      ]
    },
    {
      "cell_type": "code",
      "execution_count": 134,
      "metadata": {
        "id": "VB-SyB0ovEky"
      },
      "outputs": [],
      "source": [
        "from sklearn.feature_extraction.text import TfidfVectorizer\n",
        "\n",
        "\n",
        "sentences_str = [' '.join(sentence) for sentence in Documents]\n",
        "vectorizer = TfidfVectorizer()\n",
        "tfidf_matrix = vectorizer.fit_transform(sentences_str)\n",
        "feature_names = vectorizer.get_feature_names_out()"
      ]
    },
    {
      "cell_type": "code",
      "execution_count": 135,
      "metadata": {
        "colab": {
          "base_uri": "https://localhost:8080/"
        },
        "id": "FLJK5_vS0ywa",
        "outputId": "885de01c-f9b8-414b-ebf1-1aa6bda924bd"
      },
      "outputs": [
        {
          "output_type": "execute_result",
          "data": {
            "text/plain": [
              "array(['aa', 'aassrec', 'ab', ..., 'ﯾازده', 'ﯾک', 'ﯾکﯽ'], dtype=object)"
            ]
          },
          "metadata": {},
          "execution_count": 135
        }
      ],
      "source": [
        "feature_names"
      ]
    },
    {
      "cell_type": "code",
      "execution_count": 136,
      "metadata": {
        "colab": {
          "base_uri": "https://localhost:8080/"
        },
        "id": "qpBmBPAr1KDl",
        "outputId": "f26872b8-a719-46ce-f009-f5c5b5a30fcf"
      },
      "outputs": [
        {
          "output_type": "execute_result",
          "data": {
            "text/plain": [
              "40543"
            ]
          },
          "metadata": {},
          "execution_count": 136
        }
      ],
      "source": [
        "len(feature_names)"
      ]
    },
    {
      "cell_type": "code",
      "execution_count": 137,
      "metadata": {
        "colab": {
          "base_uri": "https://localhost:8080/"
        },
        "id": "xwJ60tVN2mak",
        "outputId": "b5692217-e35b-4cfa-ef80-b22857789846"
      },
      "outputs": [
        {
          "output_type": "execute_result",
          "data": {
            "text/plain": [
              "array([0., 0., 0., ..., 0., 0., 0.])"
            ]
          },
          "metadata": {},
          "execution_count": 137
        }
      ],
      "source": [
        "tfidf_matrix[0].toarray()[0]"
      ]
    },
    {
      "cell_type": "code",
      "execution_count": 138,
      "metadata": {
        "colab": {
          "base_uri": "https://localhost:8080/"
        },
        "id": "vkBhwM6R5Pu7",
        "outputId": "4919268f-0875-491f-c32f-cde32cf92ebc"
      },
      "outputs": [
        {
          "output_type": "execute_result",
          "data": {
            "text/plain": [
              "<42284x40543 sparse matrix of type '<class 'numpy.float64'>'\n",
              "\twith 617185 stored elements in Compressed Sparse Row format>"
            ]
          },
          "metadata": {},
          "execution_count": 138
        }
      ],
      "source": [
        "tfidf_matrix"
      ]
    },
    {
      "cell_type": "code",
      "source": [
        "sent_len[susp_path]"
      ],
      "metadata": {
        "colab": {
          "base_uri": "https://localhost:8080/"
        },
        "id": "ripVPN3IuWWx",
        "outputId": "2280cbfc-7e70-4013-c658-86d1e1b90d53"
      },
      "execution_count": 139,
      "outputs": [
        {
          "output_type": "execute_result",
          "data": {
            "text/plain": [
              "[0, 15]"
            ]
          },
          "metadata": {},
          "execution_count": 139
        }
      ]
    },
    {
      "cell_type": "code",
      "execution_count": 140,
      "metadata": {
        "id": "h_rXwGsi4cps"
      },
      "outputs": [],
      "source": [
        "susp_doc = tfidf_matrix[:sent_len[susp_path][1], :]\n",
        "src_docs = tfidf_matrix[sent_len[susp_path][1]:, :]"
      ]
    },
    {
      "cell_type": "code",
      "execution_count": 141,
      "metadata": {
        "id": "6JjcMHgK3Qc-"
      },
      "outputs": [],
      "source": [
        "from sklearn.metrics.pairwise import cosine_similarity\n",
        "\n",
        "\n",
        "cos_sim = cosine_similarity(susp_doc, src_docs)"
      ]
    },
    {
      "cell_type": "code",
      "execution_count": 142,
      "metadata": {
        "colab": {
          "base_uri": "https://localhost:8080/"
        },
        "id": "paWF0ztf5HqE",
        "outputId": "08f6393c-ddee-444c-e2d5-be57462ac8d5"
      },
      "outputs": [
        {
          "output_type": "execute_result",
          "data": {
            "text/plain": [
              "(15, 42269)"
            ]
          },
          "metadata": {},
          "execution_count": 142
        }
      ],
      "source": [
        "cos_sim.shape"
      ]
    },
    {
      "cell_type": "code",
      "execution_count": 143,
      "metadata": {
        "colab": {
          "base_uri": "https://localhost:8080/"
        },
        "id": "Cmu_BxtO5Jce",
        "outputId": "312e750e-f877-4ed4-b722-29074dd13f26"
      },
      "outputs": [
        {
          "output_type": "stream",
          "name": "stdout",
          "text": [
            "Cosine similarity between row 0 of matrix A and row 19618 of matrix B: 0.3094362425686463\n",
            "Cosine similarity between row 1 of matrix A and row 9273 of matrix B: 0.4103893048395495\n",
            "Cosine similarity between row 1 of matrix A and row 9291 of matrix B: 0.32912273976486706\n",
            "Cosine similarity between row 1 of matrix A and row 17461 of matrix B: 0.3346487096153997\n",
            "Cosine similarity between row 1 of matrix A and row 20315 of matrix B: 0.2694985907722104\n",
            "Cosine similarity between row 2 of matrix A and row 517 of matrix B: 0.28791150048817926\n",
            "Cosine similarity between row 2 of matrix A and row 9291 of matrix B: 0.27312470661234955\n",
            "Cosine similarity between row 2 of matrix A and row 11710 of matrix B: 0.39109441074929874\n",
            "Cosine similarity between row 2 of matrix A and row 13886 of matrix B: 0.3053352683421994\n",
            "Cosine similarity between row 2 of matrix A and row 24933 of matrix B: 0.28265503611366233\n",
            "Cosine similarity between row 2 of matrix A and row 30888 of matrix B: 0.25756259242273627\n",
            "Cosine similarity between row 2 of matrix A and row 32492 of matrix B: 0.29636365990581703\n",
            "Cosine similarity between row 2 of matrix A and row 32872 of matrix B: 0.28265503611366233\n",
            "Cosine similarity between row 3 of matrix A and row 4821 of matrix B: 0.2621846271600459\n",
            "Cosine similarity between row 3 of matrix A and row 4822 of matrix B: 0.40540246160233373\n",
            "Cosine similarity between row 3 of matrix A and row 4823 of matrix B: 0.29496324970507704\n",
            "Cosine similarity between row 3 of matrix A and row 4824 of matrix B: 0.28826751551247226\n",
            "Cosine similarity between row 3 of matrix A and row 19667 of matrix B: 0.28835399092807235\n",
            "Cosine similarity between row 3 of matrix A and row 23999 of matrix B: 0.3106490870762214\n",
            "Cosine similarity between row 3 of matrix A and row 27967 of matrix B: 0.286742941351364\n",
            "Cosine similarity between row 3 of matrix A and row 39388 of matrix B: 0.3437392236425757\n",
            "Cosine similarity between row 3 of matrix A and row 39507 of matrix B: 0.30883800436439773\n",
            "Cosine similarity between row 4 of matrix A and row 79 of matrix B: 0.30830980732368135\n",
            "Cosine similarity between row 4 of matrix A and row 119 of matrix B: 0.2849742552091787\n",
            "Cosine similarity between row 4 of matrix A and row 170 of matrix B: 0.3093506284815779\n",
            "Cosine similarity between row 4 of matrix A and row 186 of matrix B: 0.35182778088423405\n",
            "Cosine similarity between row 4 of matrix A and row 1025 of matrix B: 0.2515671380772253\n",
            "Cosine similarity between row 4 of matrix A and row 1026 of matrix B: 0.34413053489752904\n",
            "Cosine similarity between row 4 of matrix A and row 1317 of matrix B: 0.25930931096610904\n",
            "Cosine similarity between row 4 of matrix A and row 1802 of matrix B: 0.26566089052783076\n",
            "Cosine similarity between row 4 of matrix A and row 2027 of matrix B: 0.34649427407879824\n",
            "Cosine similarity between row 4 of matrix A and row 2028 of matrix B: 0.5308830959946569\n",
            "Cosine similarity between row 4 of matrix A and row 4292 of matrix B: 0.315284047063022\n",
            "Cosine similarity between row 4 of matrix A and row 4843 of matrix B: 0.4209510864363958\n",
            "Cosine similarity between row 4 of matrix A and row 7842 of matrix B: 0.4142158986620883\n",
            "Cosine similarity between row 4 of matrix A and row 9479 of matrix B: 0.36002757232929317\n",
            "Cosine similarity between row 4 of matrix A and row 9485 of matrix B: 0.4306968973968926\n",
            "Cosine similarity between row 4 of matrix A and row 9486 of matrix B: 0.2786378950334609\n",
            "Cosine similarity between row 4 of matrix A and row 9487 of matrix B: 0.28035954902299604\n",
            "Cosine similarity between row 4 of matrix A and row 9488 of matrix B: 0.3672757548827739\n",
            "Cosine similarity between row 4 of matrix A and row 10332 of matrix B: 0.320087194990704\n",
            "Cosine similarity between row 4 of matrix A and row 10344 of matrix B: 0.2709691668848369\n",
            "Cosine similarity between row 4 of matrix A and row 10595 of matrix B: 0.30732527260075354\n",
            "Cosine similarity between row 4 of matrix A and row 10845 of matrix B: 0.41077045456861033\n",
            "Cosine similarity between row 4 of matrix A and row 11123 of matrix B: 0.48446980050985344\n",
            "Cosine similarity between row 4 of matrix A and row 11393 of matrix B: 0.3605390669841238\n",
            "Cosine similarity between row 4 of matrix A and row 13317 of matrix B: 0.36875549083333947\n",
            "Cosine similarity between row 4 of matrix A and row 13760 of matrix B: 0.26610056174258606\n",
            "Cosine similarity between row 4 of matrix A and row 15116 of matrix B: 0.26265009313914456\n",
            "Cosine similarity between row 4 of matrix A and row 16194 of matrix B: 0.33172259713839014\n",
            "Cosine similarity between row 4 of matrix A and row 16387 of matrix B: 0.3703659461976047\n",
            "Cosine similarity between row 4 of matrix A and row 17395 of matrix B: 0.2875649827854514\n",
            "Cosine similarity between row 4 of matrix A and row 18064 of matrix B: 0.2700777664544108\n",
            "Cosine similarity between row 4 of matrix A and row 18480 of matrix B: 0.2843552116276285\n",
            "Cosine similarity between row 4 of matrix A and row 19225 of matrix B: 0.2640336896697386\n",
            "Cosine similarity between row 4 of matrix A and row 19567 of matrix B: 0.2919612464549453\n",
            "Cosine similarity between row 4 of matrix A and row 19664 of matrix B: 0.2705555231422784\n",
            "Cosine similarity between row 4 of matrix A and row 19882 of matrix B: 0.25929640605373083\n",
            "Cosine similarity between row 4 of matrix A and row 20090 of matrix B: 0.28205655088271236\n",
            "Cosine similarity between row 4 of matrix A and row 22361 of matrix B: 0.5951325457217428\n",
            "Cosine similarity between row 4 of matrix A and row 23392 of matrix B: 0.2728617478071941\n",
            "Cosine similarity between row 4 of matrix A and row 23665 of matrix B: 0.2746483695977104\n",
            "Cosine similarity between row 4 of matrix A and row 24079 of matrix B: 0.3316093866562592\n",
            "Cosine similarity between row 4 of matrix A and row 25180 of matrix B: 0.26071354278139863\n",
            "Cosine similarity between row 4 of matrix A and row 25412 of matrix B: 0.3077885529601077\n",
            "Cosine similarity between row 4 of matrix A and row 25632 of matrix B: 0.32955775110866875\n",
            "Cosine similarity between row 4 of matrix A and row 26480 of matrix B: 0.31760983972520795\n",
            "Cosine similarity between row 4 of matrix A and row 26482 of matrix B: 0.31760983972520795\n",
            "Cosine similarity between row 4 of matrix A and row 26484 of matrix B: 0.46808936258160694\n",
            "Cosine similarity between row 4 of matrix A and row 26504 of matrix B: 0.31010934991287736\n",
            "Cosine similarity between row 4 of matrix A and row 27190 of matrix B: 0.40324799461181243\n",
            "Cosine similarity between row 4 of matrix A and row 27195 of matrix B: 0.29695153446946554\n",
            "Cosine similarity between row 4 of matrix A and row 27744 of matrix B: 0.2723381517152828\n",
            "Cosine similarity between row 4 of matrix A and row 27792 of matrix B: 0.2613741071144471\n",
            "Cosine similarity between row 4 of matrix A and row 27920 of matrix B: 0.28049227141588806\n",
            "Cosine similarity between row 4 of matrix A and row 29673 of matrix B: 0.2683013059716803\n",
            "Cosine similarity between row 4 of matrix A and row 29685 of matrix B: 0.45244551116252524\n",
            "Cosine similarity between row 4 of matrix A and row 29699 of matrix B: 0.3574486920854834\n",
            "Cosine similarity between row 4 of matrix A and row 29700 of matrix B: 0.258341327053189\n",
            "Cosine similarity between row 4 of matrix A and row 29878 of matrix B: 0.3088705887051224\n",
            "Cosine similarity between row 4 of matrix A and row 31701 of matrix B: 0.41101676855085284\n",
            "Cosine similarity between row 4 of matrix A and row 32232 of matrix B: 0.31355517932969157\n",
            "Cosine similarity between row 4 of matrix A and row 32451 of matrix B: 0.5388670925394414\n",
            "Cosine similarity between row 4 of matrix A and row 32603 of matrix B: 0.2634448226389025\n",
            "Cosine similarity between row 4 of matrix A and row 32865 of matrix B: 0.2952013311897224\n",
            "Cosine similarity between row 4 of matrix A and row 33962 of matrix B: 0.3488422968531802\n",
            "Cosine similarity between row 4 of matrix A and row 35358 of matrix B: 0.3112398933297902\n",
            "Cosine similarity between row 4 of matrix A and row 36073 of matrix B: 0.26111408993831653\n",
            "Cosine similarity between row 4 of matrix A and row 36448 of matrix B: 0.33468379232636986\n",
            "Cosine similarity between row 4 of matrix A and row 36824 of matrix B: 0.34101816646874533\n",
            "Cosine similarity between row 4 of matrix A and row 37740 of matrix B: 0.2535028046601409\n",
            "Cosine similarity between row 4 of matrix A and row 37909 of matrix B: 0.30228606027682253\n",
            "Cosine similarity between row 4 of matrix A and row 38590 of matrix B: 0.26559961000811944\n",
            "Cosine similarity between row 4 of matrix A and row 38958 of matrix B: 0.27490638149694563\n",
            "Cosine similarity between row 4 of matrix A and row 38965 of matrix B: 0.2597714714677321\n",
            "Cosine similarity between row 4 of matrix A and row 39373 of matrix B: 0.26222379013015523\n",
            "Cosine similarity between row 4 of matrix A and row 39535 of matrix B: 0.28052781698966867\n",
            "Cosine similarity between row 5 of matrix A and row 13257 of matrix B: 0.2943177501600675\n",
            "Cosine similarity between row 5 of matrix A and row 25435 of matrix B: 0.28026466155727164\n",
            "Cosine similarity between row 5 of matrix A and row 25442 of matrix B: 0.30563065090805486\n",
            "Cosine similarity between row 5 of matrix A and row 25443 of matrix B: 0.30563065090805486\n",
            "Cosine similarity between row 7 of matrix A and row 19624 of matrix B: 0.27800750886294934\n",
            "Cosine similarity between row 7 of matrix A and row 21569 of matrix B: 0.25644020882094537\n",
            "Cosine similarity between row 7 of matrix A and row 23228 of matrix B: 0.26634153704238994\n",
            "Cosine similarity between row 7 of matrix A and row 35519 of matrix B: 0.28538586032948693\n",
            "Cosine similarity between row 11 of matrix A and row 2055 of matrix B: 0.30588310605051355\n",
            "Cosine similarity between row 11 of matrix A and row 2285 of matrix B: 0.4706074172179078\n",
            "Cosine similarity between row 11 of matrix A and row 5198 of matrix B: 0.3145180662533551\n",
            "Cosine similarity between row 11 of matrix A and row 9332 of matrix B: 0.3145180662533551\n",
            "Cosine similarity between row 11 of matrix A and row 14127 of matrix B: 0.33239677939331624\n",
            "Cosine similarity between row 11 of matrix A and row 14282 of matrix B: 0.33239677939331624\n",
            "Cosine similarity between row 11 of matrix A and row 17281 of matrix B: 0.33239677939331624\n",
            "Cosine similarity between row 11 of matrix A and row 20983 of matrix B: 0.33239677939331624\n",
            "Cosine similarity between row 11 of matrix A and row 27633 of matrix B: 0.33239677939331624\n",
            "Cosine similarity between row 11 of matrix A and row 30381 of matrix B: 0.33239677939331624\n",
            "Cosine similarity between row 11 of matrix A and row 31956 of matrix B: 0.29840726492581876\n",
            "Cosine similarity between row 11 of matrix A and row 39113 of matrix B: 0.33239677939331624\n",
            "Cosine similarity between row 11 of matrix A and row 42203 of matrix B: 0.33239677939331624\n",
            "Cosine similarity between row 14 of matrix A and row 5255 of matrix B: 0.40543734984029417\n",
            "Cosine similarity between row 14 of matrix A and row 9702 of matrix B: 0.2651751683438218\n",
            "Cosine similarity between row 14 of matrix A and row 20560 of matrix B: 0.30596379566009446\n"
          ]
        }
      ],
      "source": [
        "import numpy as np\n",
        "\n",
        "threshold = 0.25\n",
        "indices = np.argwhere(cos_sim > threshold)\n",
        "\n",
        "str_idx = []\n",
        "for index in indices:\n",
        "    i, j = index\n",
        "    str_idx += [j]\n",
        "    print(f\"Cosine similarity between row {i} of matrix A and row {j} of matrix B: {cos_sim[i, j]}\")"
      ]
    },
    {
      "cell_type": "code",
      "source": [
        "cheat_src = {}\n",
        "\n",
        "for idx in sorted(str_idx):\n",
        "    for path, rng in sent_len.items():\n",
        "        if rng[0] <= idx <= rng[1]:\n",
        "            if path not in cheat_src:\n",
        "                cheat_src[path] = 1\n",
        "            else:\n",
        "                cheat_src[path] += 1"
      ],
      "metadata": {
        "id": "qq3eR24_vK2R"
      },
      "execution_count": 145,
      "outputs": []
    },
    {
      "cell_type": "code",
      "source": [
        "cheat_src"
      ],
      "metadata": {
        "colab": {
          "base_uri": "https://localhost:8080/"
        },
        "id": "awPNPvjowCmz",
        "outputId": "94df5198-277b-4846-bf3c-f6f8081736bf"
      },
      "execution_count": 147,
      "outputs": [
        {
          "output_type": "execute_result",
          "data": {
            "text/plain": [
              "{'PersianPlagdet2016-text-alignment-train-corpus/src/source-document00001213543.txt': 1,\n",
              " 'PersianPlagdet2016-text-alignment-train-corpus/src/source-document00001189284.txt': 1,\n",
              " 'PersianPlagdet2016-text-alignment-train-corpus/src/source-document00001310293.txt': 1,\n",
              " 'PersianPlagdet2016-text-alignment-train-corpus/src/source-document00001114500.txt': 1,\n",
              " 'PersianPlagdet2016-text-alignment-train-corpus/src/source-document00001383258.txt': 1,\n",
              " 'PersianPlagdet2016-text-alignment-train-corpus/src/source-document00001192284.txt': 1,\n",
              " 'PersianPlagdet2016-text-alignment-train-corpus/src/source-document00001463828.txt': 2,\n",
              " 'PersianPlagdet2016-text-alignment-train-corpus/src/source-document00001421423.txt': 1,\n",
              " 'PersianPlagdet2016-text-alignment-train-corpus/src/source-document00001144829.txt': 1,\n",
              " 'PersianPlagdet2016-text-alignment-train-corpus/src/source-document00001108008.txt': 2,\n",
              " 'PersianPlagdet2016-text-alignment-train-corpus/src/source-document00001118630.txt': 1,\n",
              " 'PersianPlagdet2016-text-alignment-train-corpus/src/source-document00001262975.txt': 1,\n",
              " 'PersianPlagdet2016-text-alignment-train-corpus/src/source-document0000147216.txt': 1,\n",
              " 'PersianPlagdet2016-text-alignment-train-corpus/src/source-document00001172032.txt': 4,\n",
              " 'PersianPlagdet2016-text-alignment-train-corpus/src/source-document00001344977.txt': 2,\n",
              " 'PersianPlagdet2016-text-alignment-train-corpus/src/source-document00001193199.txt': 1,\n",
              " 'PersianPlagdet2016-text-alignment-train-corpus/src/source-document00001158278.txt': 1,\n",
              " 'PersianPlagdet2016-text-alignment-train-corpus/src/source-document00001578071.txt': 1,\n",
              " 'PersianPlagdet2016-text-alignment-train-corpus/src/source-document00001189028.txt': 1,\n",
              " 'PersianPlagdet2016-text-alignment-train-corpus/src/source-document00001212120.txt': 2,\n",
              " 'PersianPlagdet2016-text-alignment-train-corpus/src/source-document00001258067.txt': 1,\n",
              " 'PersianPlagdet2016-text-alignment-train-corpus/src/source-document00001305601.txt': 5,\n",
              " 'PersianPlagdet2016-text-alignment-train-corpus/src/source-document00001210100.txt': 1,\n",
              " 'PersianPlagdet2016-text-alignment-train-corpus/src/source-document00001207144.txt': 2,\n",
              " 'PersianPlagdet2016-text-alignment-train-corpus/src/source-document00001162962.txt': 1,\n",
              " 'PersianPlagdet2016-text-alignment-train-corpus/src/source-document00001271308.txt': 1,\n",
              " 'PersianPlagdet2016-text-alignment-train-corpus/src/source-document0000190161.txt': 1,\n",
              " 'PersianPlagdet2016-text-alignment-train-corpus/src/source-document00001403444.txt': 1,\n",
              " 'PersianPlagdet2016-text-alignment-train-corpus/src/source-document00001179036.txt': 1,\n",
              " 'PersianPlagdet2016-text-alignment-train-corpus/src/source-document00001272931.txt': 1,\n",
              " 'PersianPlagdet2016-text-alignment-train-corpus/src/source-document00001305419.txt': 1,\n",
              " 'PersianPlagdet2016-text-alignment-train-corpus/src/source-document00001169082.txt': 1,\n",
              " 'PersianPlagdet2016-text-alignment-train-corpus/src/source-document00001226038.txt': 1,\n",
              " 'PersianPlagdet2016-text-alignment-train-corpus/src/source-document00001460859.txt': 1,\n",
              " 'PersianPlagdet2016-text-alignment-train-corpus/src/source-document00001136472.txt': 1,\n",
              " 'PersianPlagdet2016-text-alignment-train-corpus/src/source-document00001116333.txt': 1,\n",
              " 'PersianPlagdet2016-text-alignment-train-corpus/src/source-document00001154827.txt': 1,\n",
              " 'PersianPlagdet2016-text-alignment-train-corpus/src/source-document00001117546.txt': 1,\n",
              " 'PersianPlagdet2016-text-alignment-train-corpus/src/source-document0000131474.txt': 1,\n",
              " 'PersianPlagdet2016-text-alignment-train-corpus/src/source-document00001330525.txt': 1,\n",
              " 'PersianPlagdet2016-text-alignment-train-corpus/src/source-document00001144188.txt': 1,\n",
              " 'PersianPlagdet2016-text-alignment-train-corpus/src/source-document00001409401.txt': 1,\n",
              " 'PersianPlagdet2016-text-alignment-train-corpus/src/source-document00001280162.txt': 1,\n",
              " 'PersianPlagdet2016-text-alignment-train-corpus/src/source-document00001228956.txt': 1,\n",
              " 'PersianPlagdet2016-text-alignment-train-corpus/src/source-document00001387716.txt': 1,\n",
              " 'PersianPlagdet2016-text-alignment-train-corpus/src/source-document00001118950.txt': 1,\n",
              " 'PersianPlagdet2016-text-alignment-train-corpus/src/source-document00001506045.txt': 1,\n",
              " 'PersianPlagdet2016-text-alignment-train-corpus/src/source-document00001366941.txt': 2,\n",
              " 'PersianPlagdet2016-text-alignment-train-corpus/src/source-document00001373359.txt': 1,\n",
              " 'PersianPlagdet2016-text-alignment-train-corpus/src/source-document0000175145.txt': 1,\n",
              " 'PersianPlagdet2016-text-alignment-train-corpus/src/source-document00001119645.txt': 1,\n",
              " 'PersianPlagdet2016-text-alignment-train-corpus/src/source-document00001345651.txt': 1,\n",
              " 'PersianPlagdet2016-text-alignment-train-corpus/src/source-document00001461374.txt': 1,\n",
              " 'PersianPlagdet2016-text-alignment-train-corpus/src/source-document00001258079.txt': 1,\n",
              " 'PersianPlagdet2016-text-alignment-train-corpus/src/source-document00001371011.txt': 1,\n",
              " 'PersianPlagdet2016-text-alignment-train-corpus/src/source-document00001211369.txt': 1,\n",
              " 'PersianPlagdet2016-text-alignment-train-corpus/src/source-document00001236790.txt': 1,\n",
              " 'PersianPlagdet2016-text-alignment-train-corpus/src/source-document00001358047.txt': 1,\n",
              " 'PersianPlagdet2016-text-alignment-train-corpus/src/source-document00001193230.txt': 1,\n",
              " 'PersianPlagdet2016-text-alignment-train-corpus/src/source-document00001381145.txt': 1,\n",
              " 'PersianPlagdet2016-text-alignment-train-corpus/src/source-document00001397824.txt': 1,\n",
              " 'PersianPlagdet2016-text-alignment-train-corpus/src/source-document00001203033.txt': 1,\n",
              " 'PersianPlagdet2016-text-alignment-train-corpus/src/source-document00001128937.txt': 1,\n",
              " 'PersianPlagdet2016-text-alignment-train-corpus/src/source-document00001145219.txt': 1,\n",
              " 'PersianPlagdet2016-text-alignment-train-corpus/src/source-document00001305979.txt': 4,\n",
              " 'PersianPlagdet2016-text-alignment-train-corpus/src/source-document00001144879.txt': 1,\n",
              " 'PersianPlagdet2016-text-alignment-train-corpus/src/source-document00001347671.txt': 3,\n",
              " 'PersianPlagdet2016-text-alignment-train-corpus/src/source-document00001360888.txt': 1,\n",
              " 'PersianPlagdet2016-text-alignment-train-corpus/src/source-document00001137570.txt': 2,\n",
              " 'PersianPlagdet2016-text-alignment-train-corpus/src/source-document00001111424.txt': 1,\n",
              " 'PersianPlagdet2016-text-alignment-train-corpus/src/source-document00001347234.txt': 1,\n",
              " 'PersianPlagdet2016-text-alignment-train-corpus/src/source-document00001174387.txt': 1,\n",
              " 'PersianPlagdet2016-text-alignment-train-corpus/src/source-document00001298772.txt': 1,\n",
              " 'PersianPlagdet2016-text-alignment-train-corpus/src/source-document00001370260.txt': 1,\n",
              " 'PersianPlagdet2016-text-alignment-train-corpus/src/source-document00001226977.txt': 1,\n",
              " 'PersianPlagdet2016-text-alignment-train-corpus/src/source-document00001259716.txt': 1,\n",
              " 'PersianPlagdet2016-text-alignment-train-corpus/src/source-document00001148943.txt': 4,\n",
              " 'PersianPlagdet2016-text-alignment-train-corpus/src/source-document00001373799.txt': 1,\n",
              " 'PersianPlagdet2016-text-alignment-train-corpus/src/source-document00001110998.txt': 1,\n",
              " 'PersianPlagdet2016-text-alignment-train-corpus/src/source-document00001359543.txt': 1,\n",
              " 'PersianPlagdet2016-text-alignment-train-corpus/src/source-document0000113884.txt': 1,\n",
              " 'PersianPlagdet2016-text-alignment-train-corpus/src/source-document00001137552.txt': 1,\n",
              " 'PersianPlagdet2016-text-alignment-train-corpus/src/source-document00001101254.txt': 1,\n",
              " 'PersianPlagdet2016-text-alignment-train-corpus/src/source-document00001291325.txt': 1,\n",
              " 'PersianPlagdet2016-text-alignment-train-corpus/src/source-document00001206231.txt': 1,\n",
              " 'PersianPlagdet2016-text-alignment-train-corpus/src/source-document0000143856.txt': 1,\n",
              " 'PersianPlagdet2016-text-alignment-train-corpus/src/source-document0000164591.txt': 2,\n",
              " 'PersianPlagdet2016-text-alignment-train-corpus/src/source-document00001287546.txt': 1,\n",
              " 'PersianPlagdet2016-text-alignment-train-corpus/src/source-document00001366005.txt': 1,\n",
              " 'PersianPlagdet2016-text-alignment-train-corpus/src/source-document00001235294.txt': 1,\n",
              " 'PersianPlagdet2016-text-alignment-train-corpus/src/source-document0000154746.txt': 1,\n",
              " 'PersianPlagdet2016-text-alignment-train-corpus/src/source-document00001303651.txt': 1,\n",
              " 'PersianPlagdet2016-text-alignment-train-corpus/src/source-document00001297160.txt': 1,\n",
              " 'PersianPlagdet2016-text-alignment-train-corpus/src/source-document00001153783.txt': 1,\n",
              " 'PersianPlagdet2016-text-alignment-train-corpus/src/source-document00001353091.txt': 1,\n",
              " 'PersianPlagdet2016-text-alignment-train-corpus/src/source-document00001228499.txt': 1,\n",
              " 'PersianPlagdet2016-text-alignment-train-corpus/src/source-document00001363650.txt': 2,\n",
              " 'PersianPlagdet2016-text-alignment-train-corpus/src/source-document0000129893.txt': 1,\n",
              " 'PersianPlagdet2016-text-alignment-train-corpus/src/source-document00001321281.txt': 1,\n",
              " 'PersianPlagdet2016-text-alignment-train-corpus/src/source-document00001266605.txt': 1,\n",
              " 'PersianPlagdet2016-text-alignment-train-corpus/src/source-document00001144833.txt': 1,\n",
              " 'PersianPlagdet2016-text-alignment-train-corpus/src/source-document00001279613.txt': 1,\n",
              " 'PersianPlagdet2016-text-alignment-train-corpus/src/source-document00001117218.txt': 1}"
            ]
          },
          "metadata": {},
          "execution_count": 147
        }
      ]
    },
    {
      "cell_type": "code",
      "source": [
        "cheat_src[plag_path]"
      ],
      "metadata": {
        "colab": {
          "base_uri": "https://localhost:8080/"
        },
        "id": "949XUZchwEA_",
        "outputId": "b76062e7-e40c-41f6-ea03-5992416e6cd7"
      },
      "execution_count": 148,
      "outputs": [
        {
          "output_type": "execute_result",
          "data": {
            "text/plain": [
              "1"
            ]
          },
          "metadata": {},
          "execution_count": 148
        }
      ]
    },
    {
      "cell_type": "code",
      "source": [
        "df[df['source'] == plag_path.split('/')[-1]]"
      ],
      "metadata": {
        "colab": {
          "base_uri": "https://localhost:8080/",
          "height": 143
        },
        "id": "WRD0WmYW4jqy",
        "outputId": "5d78e896-c4db-405d-eb74-b5836149bc3c"
      },
      "execution_count": 149,
      "outputs": [
        {
          "output_type": "execute_result",
          "data": {
            "text/plain": [
              "                              suspicious                          source\n",
              "3     suspicious-document00001101968.txt  source-document00001213543.txt\n",
              "709   suspicious-document00001528053.txt  source-document00001213543.txt\n",
              "1628  suspicious-document00001200433.txt  source-document00001213543.txt"
            ],
            "text/html": [
              "\n",
              "\n",
              "  <div id=\"df-64cadd06-07d6-4717-b8d3-b76a522f1a5a\">\n",
              "    <div class=\"colab-df-container\">\n",
              "      <div>\n",
              "<style scoped>\n",
              "    .dataframe tbody tr th:only-of-type {\n",
              "        vertical-align: middle;\n",
              "    }\n",
              "\n",
              "    .dataframe tbody tr th {\n",
              "        vertical-align: top;\n",
              "    }\n",
              "\n",
              "    .dataframe thead th {\n",
              "        text-align: right;\n",
              "    }\n",
              "</style>\n",
              "<table border=\"1\" class=\"dataframe\">\n",
              "  <thead>\n",
              "    <tr style=\"text-align: right;\">\n",
              "      <th></th>\n",
              "      <th>suspicious</th>\n",
              "      <th>source</th>\n",
              "    </tr>\n",
              "  </thead>\n",
              "  <tbody>\n",
              "    <tr>\n",
              "      <th>3</th>\n",
              "      <td>suspicious-document00001101968.txt</td>\n",
              "      <td>source-document00001213543.txt</td>\n",
              "    </tr>\n",
              "    <tr>\n",
              "      <th>709</th>\n",
              "      <td>suspicious-document00001528053.txt</td>\n",
              "      <td>source-document00001213543.txt</td>\n",
              "    </tr>\n",
              "    <tr>\n",
              "      <th>1628</th>\n",
              "      <td>suspicious-document00001200433.txt</td>\n",
              "      <td>source-document00001213543.txt</td>\n",
              "    </tr>\n",
              "  </tbody>\n",
              "</table>\n",
              "</div>\n",
              "      <button class=\"colab-df-convert\" onclick=\"convertToInteractive('df-64cadd06-07d6-4717-b8d3-b76a522f1a5a')\"\n",
              "              title=\"Convert this dataframe to an interactive table.\"\n",
              "              style=\"display:none;\">\n",
              "\n",
              "  <svg xmlns=\"http://www.w3.org/2000/svg\" height=\"24px\"viewBox=\"0 0 24 24\"\n",
              "       width=\"24px\">\n",
              "    <path d=\"M0 0h24v24H0V0z\" fill=\"none\"/>\n",
              "    <path d=\"M18.56 5.44l.94 2.06.94-2.06 2.06-.94-2.06-.94-.94-2.06-.94 2.06-2.06.94zm-11 1L8.5 8.5l.94-2.06 2.06-.94-2.06-.94L8.5 2.5l-.94 2.06-2.06.94zm10 10l.94 2.06.94-2.06 2.06-.94-2.06-.94-.94-2.06-.94 2.06-2.06.94z\"/><path d=\"M17.41 7.96l-1.37-1.37c-.4-.4-.92-.59-1.43-.59-.52 0-1.04.2-1.43.59L10.3 9.45l-7.72 7.72c-.78.78-.78 2.05 0 2.83L4 21.41c.39.39.9.59 1.41.59.51 0 1.02-.2 1.41-.59l7.78-7.78 2.81-2.81c.8-.78.8-2.07 0-2.86zM5.41 20L4 18.59l7.72-7.72 1.47 1.35L5.41 20z\"/>\n",
              "  </svg>\n",
              "      </button>\n",
              "\n",
              "\n",
              "\n",
              "    <div id=\"df-56cd1946-cf09-40f7-bb5a-aabdc039f1ba\">\n",
              "      <button class=\"colab-df-quickchart\" onclick=\"quickchart('df-56cd1946-cf09-40f7-bb5a-aabdc039f1ba')\"\n",
              "              title=\"Suggest charts.\"\n",
              "              style=\"display:none;\">\n",
              "\n",
              "<svg xmlns=\"http://www.w3.org/2000/svg\" height=\"24px\"viewBox=\"0 0 24 24\"\n",
              "     width=\"24px\">\n",
              "    <g>\n",
              "        <path d=\"M19 3H5c-1.1 0-2 .9-2 2v14c0 1.1.9 2 2 2h14c1.1 0 2-.9 2-2V5c0-1.1-.9-2-2-2zM9 17H7v-7h2v7zm4 0h-2V7h2v10zm4 0h-2v-4h2v4z\"/>\n",
              "    </g>\n",
              "</svg>\n",
              "      </button>\n",
              "    </div>\n",
              "\n",
              "<style>\n",
              "  .colab-df-quickchart {\n",
              "    background-color: #E8F0FE;\n",
              "    border: none;\n",
              "    border-radius: 50%;\n",
              "    cursor: pointer;\n",
              "    display: none;\n",
              "    fill: #1967D2;\n",
              "    height: 32px;\n",
              "    padding: 0 0 0 0;\n",
              "    width: 32px;\n",
              "  }\n",
              "\n",
              "  .colab-df-quickchart:hover {\n",
              "    background-color: #E2EBFA;\n",
              "    box-shadow: 0px 1px 2px rgba(60, 64, 67, 0.3), 0px 1px 3px 1px rgba(60, 64, 67, 0.15);\n",
              "    fill: #174EA6;\n",
              "  }\n",
              "\n",
              "  [theme=dark] .colab-df-quickchart {\n",
              "    background-color: #3B4455;\n",
              "    fill: #D2E3FC;\n",
              "  }\n",
              "\n",
              "  [theme=dark] .colab-df-quickchart:hover {\n",
              "    background-color: #434B5C;\n",
              "    box-shadow: 0px 1px 3px 1px rgba(0, 0, 0, 0.15);\n",
              "    filter: drop-shadow(0px 1px 2px rgba(0, 0, 0, 0.3));\n",
              "    fill: #FFFFFF;\n",
              "  }\n",
              "</style>\n",
              "\n",
              "    <script>\n",
              "      async function quickchart(key) {\n",
              "        const containerElement = document.querySelector('#' + key);\n",
              "        const charts = await google.colab.kernel.invokeFunction(\n",
              "            'suggestCharts', [key], {});\n",
              "      }\n",
              "    </script>\n",
              "\n",
              "\n",
              "      <script>\n",
              "\n",
              "function displayQuickchartButton(domScope) {\n",
              "  let quickchartButtonEl =\n",
              "    domScope.querySelector('#df-56cd1946-cf09-40f7-bb5a-aabdc039f1ba button.colab-df-quickchart');\n",
              "  quickchartButtonEl.style.display =\n",
              "    google.colab.kernel.accessAllowed ? 'block' : 'none';\n",
              "}\n",
              "\n",
              "        displayQuickchartButton(document);\n",
              "      </script>\n",
              "      <style>\n",
              "    .colab-df-container {\n",
              "      display:flex;\n",
              "      flex-wrap:wrap;\n",
              "      gap: 12px;\n",
              "    }\n",
              "\n",
              "    .colab-df-convert {\n",
              "      background-color: #E8F0FE;\n",
              "      border: none;\n",
              "      border-radius: 50%;\n",
              "      cursor: pointer;\n",
              "      display: none;\n",
              "      fill: #1967D2;\n",
              "      height: 32px;\n",
              "      padding: 0 0 0 0;\n",
              "      width: 32px;\n",
              "    }\n",
              "\n",
              "    .colab-df-convert:hover {\n",
              "      background-color: #E2EBFA;\n",
              "      box-shadow: 0px 1px 2px rgba(60, 64, 67, 0.3), 0px 1px 3px 1px rgba(60, 64, 67, 0.15);\n",
              "      fill: #174EA6;\n",
              "    }\n",
              "\n",
              "    [theme=dark] .colab-df-convert {\n",
              "      background-color: #3B4455;\n",
              "      fill: #D2E3FC;\n",
              "    }\n",
              "\n",
              "    [theme=dark] .colab-df-convert:hover {\n",
              "      background-color: #434B5C;\n",
              "      box-shadow: 0px 1px 3px 1px rgba(0, 0, 0, 0.15);\n",
              "      filter: drop-shadow(0px 1px 2px rgba(0, 0, 0, 0.3));\n",
              "      fill: #FFFFFF;\n",
              "    }\n",
              "  </style>\n",
              "\n",
              "      <script>\n",
              "        const buttonEl =\n",
              "          document.querySelector('#df-64cadd06-07d6-4717-b8d3-b76a522f1a5a button.colab-df-convert');\n",
              "        buttonEl.style.display =\n",
              "          google.colab.kernel.accessAllowed ? 'block' : 'none';\n",
              "\n",
              "        async function convertToInteractive(key) {\n",
              "          const element = document.querySelector('#df-64cadd06-07d6-4717-b8d3-b76a522f1a5a');\n",
              "          const dataTable =\n",
              "            await google.colab.kernel.invokeFunction('convertToInteractive',\n",
              "                                                     [key], {});\n",
              "          if (!dataTable) return;\n",
              "\n",
              "          const docLinkHtml = 'Like what you see? Visit the ' +\n",
              "            '<a target=\"_blank\" href=https://colab.research.google.com/notebooks/data_table.ipynb>data table notebook</a>'\n",
              "            + ' to learn more about interactive tables.';\n",
              "          element.innerHTML = '';\n",
              "          dataTable['output_type'] = 'display_data';\n",
              "          await google.colab.output.renderOutput(dataTable, element);\n",
              "          const docLink = document.createElement('div');\n",
              "          docLink.innerHTML = docLinkHtml;\n",
              "          element.appendChild(docLink);\n",
              "        }\n",
              "      </script>\n",
              "    </div>\n",
              "  </div>\n"
            ]
          },
          "metadata": {},
          "execution_count": 149
        }
      ]
    },
    {
      "cell_type": "code",
      "source": [
        "df[df['suspicious'] == susp_path.split('/')[-1]]"
      ],
      "metadata": {
        "colab": {
          "base_uri": "https://localhost:8080/",
          "height": 81
        },
        "id": "4J8KMIg0Ttu_",
        "outputId": "3485e35f-214b-40d5-8302-36350db7d453"
      },
      "execution_count": 151,
      "outputs": [
        {
          "output_type": "execute_result",
          "data": {
            "text/plain": [
              "                           suspicious                          source\n",
              "3  suspicious-document00001101968.txt  source-document00001213543.txt"
            ],
            "text/html": [
              "\n",
              "\n",
              "  <div id=\"df-c1b58645-0c53-4b06-8469-151356dce01e\">\n",
              "    <div class=\"colab-df-container\">\n",
              "      <div>\n",
              "<style scoped>\n",
              "    .dataframe tbody tr th:only-of-type {\n",
              "        vertical-align: middle;\n",
              "    }\n",
              "\n",
              "    .dataframe tbody tr th {\n",
              "        vertical-align: top;\n",
              "    }\n",
              "\n",
              "    .dataframe thead th {\n",
              "        text-align: right;\n",
              "    }\n",
              "</style>\n",
              "<table border=\"1\" class=\"dataframe\">\n",
              "  <thead>\n",
              "    <tr style=\"text-align: right;\">\n",
              "      <th></th>\n",
              "      <th>suspicious</th>\n",
              "      <th>source</th>\n",
              "    </tr>\n",
              "  </thead>\n",
              "  <tbody>\n",
              "    <tr>\n",
              "      <th>3</th>\n",
              "      <td>suspicious-document00001101968.txt</td>\n",
              "      <td>source-document00001213543.txt</td>\n",
              "    </tr>\n",
              "  </tbody>\n",
              "</table>\n",
              "</div>\n",
              "      <button class=\"colab-df-convert\" onclick=\"convertToInteractive('df-c1b58645-0c53-4b06-8469-151356dce01e')\"\n",
              "              title=\"Convert this dataframe to an interactive table.\"\n",
              "              style=\"display:none;\">\n",
              "\n",
              "  <svg xmlns=\"http://www.w3.org/2000/svg\" height=\"24px\"viewBox=\"0 0 24 24\"\n",
              "       width=\"24px\">\n",
              "    <path d=\"M0 0h24v24H0V0z\" fill=\"none\"/>\n",
              "    <path d=\"M18.56 5.44l.94 2.06.94-2.06 2.06-.94-2.06-.94-.94-2.06-.94 2.06-2.06.94zm-11 1L8.5 8.5l.94-2.06 2.06-.94-2.06-.94L8.5 2.5l-.94 2.06-2.06.94zm10 10l.94 2.06.94-2.06 2.06-.94-2.06-.94-.94-2.06-.94 2.06-2.06.94z\"/><path d=\"M17.41 7.96l-1.37-1.37c-.4-.4-.92-.59-1.43-.59-.52 0-1.04.2-1.43.59L10.3 9.45l-7.72 7.72c-.78.78-.78 2.05 0 2.83L4 21.41c.39.39.9.59 1.41.59.51 0 1.02-.2 1.41-.59l7.78-7.78 2.81-2.81c.8-.78.8-2.07 0-2.86zM5.41 20L4 18.59l7.72-7.72 1.47 1.35L5.41 20z\"/>\n",
              "  </svg>\n",
              "      </button>\n",
              "\n",
              "\n",
              "\n",
              "    <div id=\"df-b2d86fd1-233e-489d-94f8-bf0cab9c1cd6\">\n",
              "      <button class=\"colab-df-quickchart\" onclick=\"quickchart('df-b2d86fd1-233e-489d-94f8-bf0cab9c1cd6')\"\n",
              "              title=\"Suggest charts.\"\n",
              "              style=\"display:none;\">\n",
              "\n",
              "<svg xmlns=\"http://www.w3.org/2000/svg\" height=\"24px\"viewBox=\"0 0 24 24\"\n",
              "     width=\"24px\">\n",
              "    <g>\n",
              "        <path d=\"M19 3H5c-1.1 0-2 .9-2 2v14c0 1.1.9 2 2 2h14c1.1 0 2-.9 2-2V5c0-1.1-.9-2-2-2zM9 17H7v-7h2v7zm4 0h-2V7h2v10zm4 0h-2v-4h2v4z\"/>\n",
              "    </g>\n",
              "</svg>\n",
              "      </button>\n",
              "    </div>\n",
              "\n",
              "<style>\n",
              "  .colab-df-quickchart {\n",
              "    background-color: #E8F0FE;\n",
              "    border: none;\n",
              "    border-radius: 50%;\n",
              "    cursor: pointer;\n",
              "    display: none;\n",
              "    fill: #1967D2;\n",
              "    height: 32px;\n",
              "    padding: 0 0 0 0;\n",
              "    width: 32px;\n",
              "  }\n",
              "\n",
              "  .colab-df-quickchart:hover {\n",
              "    background-color: #E2EBFA;\n",
              "    box-shadow: 0px 1px 2px rgba(60, 64, 67, 0.3), 0px 1px 3px 1px rgba(60, 64, 67, 0.15);\n",
              "    fill: #174EA6;\n",
              "  }\n",
              "\n",
              "  [theme=dark] .colab-df-quickchart {\n",
              "    background-color: #3B4455;\n",
              "    fill: #D2E3FC;\n",
              "  }\n",
              "\n",
              "  [theme=dark] .colab-df-quickchart:hover {\n",
              "    background-color: #434B5C;\n",
              "    box-shadow: 0px 1px 3px 1px rgba(0, 0, 0, 0.15);\n",
              "    filter: drop-shadow(0px 1px 2px rgba(0, 0, 0, 0.3));\n",
              "    fill: #FFFFFF;\n",
              "  }\n",
              "</style>\n",
              "\n",
              "    <script>\n",
              "      async function quickchart(key) {\n",
              "        const containerElement = document.querySelector('#' + key);\n",
              "        const charts = await google.colab.kernel.invokeFunction(\n",
              "            'suggestCharts', [key], {});\n",
              "      }\n",
              "    </script>\n",
              "\n",
              "\n",
              "      <script>\n",
              "\n",
              "function displayQuickchartButton(domScope) {\n",
              "  let quickchartButtonEl =\n",
              "    domScope.querySelector('#df-b2d86fd1-233e-489d-94f8-bf0cab9c1cd6 button.colab-df-quickchart');\n",
              "  quickchartButtonEl.style.display =\n",
              "    google.colab.kernel.accessAllowed ? 'block' : 'none';\n",
              "}\n",
              "\n",
              "        displayQuickchartButton(document);\n",
              "      </script>\n",
              "      <style>\n",
              "    .colab-df-container {\n",
              "      display:flex;\n",
              "      flex-wrap:wrap;\n",
              "      gap: 12px;\n",
              "    }\n",
              "\n",
              "    .colab-df-convert {\n",
              "      background-color: #E8F0FE;\n",
              "      border: none;\n",
              "      border-radius: 50%;\n",
              "      cursor: pointer;\n",
              "      display: none;\n",
              "      fill: #1967D2;\n",
              "      height: 32px;\n",
              "      padding: 0 0 0 0;\n",
              "      width: 32px;\n",
              "    }\n",
              "\n",
              "    .colab-df-convert:hover {\n",
              "      background-color: #E2EBFA;\n",
              "      box-shadow: 0px 1px 2px rgba(60, 64, 67, 0.3), 0px 1px 3px 1px rgba(60, 64, 67, 0.15);\n",
              "      fill: #174EA6;\n",
              "    }\n",
              "\n",
              "    [theme=dark] .colab-df-convert {\n",
              "      background-color: #3B4455;\n",
              "      fill: #D2E3FC;\n",
              "    }\n",
              "\n",
              "    [theme=dark] .colab-df-convert:hover {\n",
              "      background-color: #434B5C;\n",
              "      box-shadow: 0px 1px 3px 1px rgba(0, 0, 0, 0.15);\n",
              "      filter: drop-shadow(0px 1px 2px rgba(0, 0, 0, 0.3));\n",
              "      fill: #FFFFFF;\n",
              "    }\n",
              "  </style>\n",
              "\n",
              "      <script>\n",
              "        const buttonEl =\n",
              "          document.querySelector('#df-c1b58645-0c53-4b06-8469-151356dce01e button.colab-df-convert');\n",
              "        buttonEl.style.display =\n",
              "          google.colab.kernel.accessAllowed ? 'block' : 'none';\n",
              "\n",
              "        async function convertToInteractive(key) {\n",
              "          const element = document.querySelector('#df-c1b58645-0c53-4b06-8469-151356dce01e');\n",
              "          const dataTable =\n",
              "            await google.colab.kernel.invokeFunction('convertToInteractive',\n",
              "                                                     [key], {});\n",
              "          if (!dataTable) return;\n",
              "\n",
              "          const docLinkHtml = 'Like what you see? Visit the ' +\n",
              "            '<a target=\"_blank\" href=https://colab.research.google.com/notebooks/data_table.ipynb>data table notebook</a>'\n",
              "            + ' to learn more about interactive tables.';\n",
              "          element.innerHTML = '';\n",
              "          dataTable['output_type'] = 'display_data';\n",
              "          await google.colab.output.renderOutput(dataTable, element);\n",
              "          const docLink = document.createElement('div');\n",
              "          docLink.innerHTML = docLinkHtml;\n",
              "          element.appendChild(docLink);\n",
              "        }\n",
              "      </script>\n",
              "    </div>\n",
              "  </div>\n"
            ]
          },
          "metadata": {},
          "execution_count": 151
        }
      ]
    },
    {
      "cell_type": "code",
      "source": [],
      "metadata": {
        "id": "coRn1eU7T6IK"
      },
      "execution_count": null,
      "outputs": []
    }
  ],
  "metadata": {
    "colab": {
      "provenance": []
    },
    "kernelspec": {
      "display_name": "Python 3",
      "name": "python3"
    },
    "language_info": {
      "name": "python"
    }
  },
  "nbformat": 4,
  "nbformat_minor": 0
}