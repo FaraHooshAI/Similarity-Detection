{
  "nbformat": 4,
  "nbformat_minor": 0,
  "metadata": {
    "colab": {
      "provenance": []
    },
    "kernelspec": {
      "name": "python3",
      "display_name": "Python 3"
    },
    "language_info": {
      "name": "python"
    }
  },
  "cells": [
    {
      "cell_type": "markdown",
      "source": [
        "mount Drive"
      ],
      "metadata": {
        "id": "w-Lys7J5752T"
      }
    },
    {
      "cell_type": "code",
      "execution_count": 1,
      "metadata": {
        "colab": {
          "base_uri": "https://localhost:8080/"
        },
        "id": "qqZ3lIhB7NZL",
        "outputId": "654850c4-b268-457d-ceab-9c897a5cef83"
      },
      "outputs": [
        {
          "output_type": "stream",
          "name": "stdout",
          "text": [
            "Mounted at /content/drive\n"
          ]
        }
      ],
      "source": [
        "from google.colab import drive\n",
        "drive.mount('/content/drive')"
      ]
    },
    {
      "cell_type": "markdown",
      "source": [
        "import libraries"
      ],
      "metadata": {
        "id": "ErHOZ7jH78sB"
      }
    },
    {
      "cell_type": "code",
      "source": [
        "!pip install hazm"
      ],
      "metadata": {
        "id": "_sRdfEdS7a59"
      },
      "execution_count": null,
      "outputs": []
    },
    {
      "cell_type": "code",
      "source": [
        "from sklearn.metrics.pairwise import cosine_similarity\n",
        "import os\n",
        "import io\n",
        "from hazm import *\n",
        "import tqdm\n",
        "import codecs\n",
        "import gensim\n",
        "from gensim.models import Word2Vec\n",
        "import pandas as pd\n",
        "import numpy as np"
      ],
      "metadata": {
        "id": "XG5O53dI7WFs"
      },
      "execution_count": 184,
      "outputs": []
    },
    {
      "cell_type": "markdown",
      "source": [
        "unzip data folder"
      ],
      "metadata": {
        "id": "k10iAW8Q7_rF"
      }
    },
    {
      "cell_type": "code",
      "source": [
        "!unrar x '/content/drive/MyDrive/Cheating Detection/PersianPlagdet2016-text-alignment-corpus.rar'"
      ],
      "metadata": {
        "id": "l5VjKt7E7OAz"
      },
      "execution_count": null,
      "outputs": []
    },
    {
      "cell_type": "markdown",
      "source": [
        "read data paths"
      ],
      "metadata": {
        "id": "Lnz07bj48C_0"
      }
    },
    {
      "cell_type": "code",
      "source": [
        "folder_path = ['PersianPlagdet2016-text-alignment-train-corpus/src/', 'PersianPlagdet2016-text-alignment-train-corpus/susp/']\n",
        "\n",
        "txt_files = []\n",
        "\n",
        "for folder in folder_path:\n",
        "  for root, dirs, files in os.walk(folder):\n",
        "      for file in files:\n",
        "          if file.endswith(\".txt\"):\n",
        "              txt_files.append(os.path.join(root, file))"
      ],
      "metadata": {
        "id": "alfXOKHg7QF-"
      },
      "execution_count": 154,
      "outputs": []
    },
    {
      "cell_type": "code",
      "source": [
        "len(txt_files)"
      ],
      "metadata": {
        "colab": {
          "base_uri": "https://localhost:8080/"
        },
        "id": "gyVnJoVp7VtC",
        "outputId": "3ea9d4c6-b3f6-4b8b-e876-bd2abb6c12df"
      },
      "execution_count": 155,
      "outputs": [
        {
          "output_type": "execute_result",
          "data": {
            "text/plain": [
              "3088"
            ]
          },
          "metadata": {},
          "execution_count": 155
        }
      ]
    },
    {
      "cell_type": "markdown",
      "source": [
        "Pre-process"
      ],
      "metadata": {
        "id": "AaZ_mjq88HEm"
      }
    },
    {
      "cell_type": "code",
      "source": [
        "txt_collection = {}\n",
        "\n",
        "for file in txt_files:\n",
        "    with io.open(file, 'r', encoding='utf-8') as f:\n",
        "        txt_collection[file] = f.read()"
      ],
      "metadata": {
        "id": "w9BN8BDV7Ykq"
      },
      "execution_count": 156,
      "outputs": []
    },
    {
      "cell_type": "markdown",
      "source": [
        "Normalize + Tokenize"
      ],
      "metadata": {
        "id": "wIadfgY_8Lle"
      }
    },
    {
      "cell_type": "code",
      "source": [
        "hazm_normalizer = Normalizer()\n",
        "\n",
        "txt_sentences = {}\n",
        "txt_norm_tokenize = {}\n",
        "\n",
        "for file in tqdm.tqdm(txt_collection):\n",
        "\n",
        "    normalized_txt = hazm_normalizer.normalize(txt_collection[file])\n",
        "    sentences = sent_tokenize(normalized_txt)\n",
        "    txt_sentences[file] = sentences\n",
        "    temp = []\n",
        "\n",
        "    for sent in sentences:\n",
        "        temp += [word_tokenize(sent)]\n",
        "\n",
        "    txt_norm_tokenize[file] = temp"
      ],
      "metadata": {
        "colab": {
          "base_uri": "https://localhost:8080/"
        },
        "id": "5tgcUDR97cT6",
        "outputId": "76f8d437-f452-4dd3-a352-af5af71200a8"
      },
      "execution_count": 169,
      "outputs": [
        {
          "output_type": "stream",
          "name": "stderr",
          "text": [
            "100%|██████████| 3088/3088 [00:23<00:00, 132.75it/s]\n"
          ]
        }
      ]
    },
    {
      "cell_type": "markdown",
      "source": [
        "remove stop words + Lemmatize"
      ],
      "metadata": {
        "id": "4K7GSBlm8RC4"
      }
    },
    {
      "cell_type": "code",
      "source": [
        "stop_path = '/content/drive/MyDrive/Cheating Detection/persian_stopwords.txt'\n",
        "stopwords = [hazm_normalizer.normalize(x.strip()) for x in codecs.open(stop_path,'r','utf-8').readlines()]"
      ],
      "metadata": {
        "id": "GC_84TeH7l-Z"
      },
      "execution_count": 170,
      "outputs": []
    },
    {
      "cell_type": "code",
      "source": [
        "lemmatizer = Lemmatizer()\n",
        "\n",
        "\n",
        "tokens_nonstop = {}\n",
        "all_tokens_nonstop = []\n",
        "\n",
        "for file in tqdm.tqdm(txt_norm_tokenize):\n",
        "    temp = []\n",
        "    for token_list in txt_norm_tokenize[file]:\n",
        "        temp2 = []\n",
        "        temp2 += [lemmatizer.lemmatize(t.replace(\"_\", \"\")) for t in token_list if t not in stopwords]\n",
        "        all_tokens_nonstop += [temp2]\n",
        "\n",
        "        if len(temp2) >= 3:\n",
        "            temp += [temp2]\n",
        "\n",
        "    tokens_nonstop[file] = temp"
      ],
      "metadata": {
        "colab": {
          "base_uri": "https://localhost:8080/"
        },
        "id": "9Dmlr2Cs7rL0",
        "outputId": "e731092b-d5b9-4ee8-b69f-87937b8f9238"
      },
      "execution_count": 171,
      "outputs": [
        {
          "output_type": "stream",
          "name": "stderr",
          "text": [
            "100%|██████████| 3088/3088 [00:11<00:00, 258.93it/s]\n"
          ]
        }
      ]
    },
    {
      "cell_type": "markdown",
      "source": [
        "Word2Vec"
      ],
      "metadata": {
        "id": "EXq7m4aO8X42"
      }
    },
    {
      "cell_type": "code",
      "source": [
        "model1 = gensim.models.Word2Vec(all_tokens_nonstop, min_count = 1, vector_size = 100, window = 5)"
      ],
      "metadata": {
        "id": "7t0HdkdV7taP"
      },
      "execution_count": 174,
      "outputs": []
    },
    {
      "cell_type": "markdown",
      "source": [
        "read pairs"
      ],
      "metadata": {
        "id": "A3ciqLl_8bvk"
      }
    },
    {
      "cell_type": "code",
      "source": [
        "pairs_dict = {'suspicious': [], 'source': [], 'Label': []}\n",
        "\n",
        "\n",
        "files = [('/content/PersianPlagdet2016-text-alignment-train-corpus/01-no-plagiarism/pairs', 0),\n",
        "         ('/content/PersianPlagdet2016-text-alignment-train-corpus/02-no-obfuscation/pairs', 0),\n",
        "         ('/content/PersianPlagdet2016-text-alignment-train-corpus/03-random-obfuscation/pairs', 1),\n",
        "         ('/content/PersianPlagdet2016-text-alignment-train-corpus/04-simulated-obfuscation/pairs', 1)]\n",
        "\n",
        "\n",
        "for f, l in files:\n",
        "    file = open(f, \"r\")\n",
        "\n",
        "    content = file.read()\n",
        "\n",
        "    for row in content.split('\\n'):\n",
        "        temp = row.split(' ')\n",
        "        if len(temp) == 2:\n",
        "            susp, src = temp\n",
        "            pairs_dict['suspicious'] += [susp]\n",
        "            pairs_dict['source'] += [src]\n",
        "            pairs_dict['Label'] += [l]\n",
        "\n",
        "    file.close()"
      ],
      "metadata": {
        "id": "i_1a8BSYK1vy"
      },
      "execution_count": 175,
      "outputs": []
    },
    {
      "cell_type": "code",
      "source": [
        "df = pd.DataFrame(pairs_dict)"
      ],
      "metadata": {
        "id": "UvLa_XwI7zS_"
      },
      "execution_count": 176,
      "outputs": []
    },
    {
      "cell_type": "code",
      "source": [
        "df"
      ],
      "metadata": {
        "colab": {
          "base_uri": "https://localhost:8080/",
          "height": 423
        },
        "id": "ScxtXen2_A-U",
        "outputId": "3de2a15a-948b-4e67-8561-af42bb774ebc"
      },
      "execution_count": 177,
      "outputs": [
        {
          "output_type": "execute_result",
          "data": {
            "text/plain": [
              "                              suspicious                          source  \\\n",
              "0     suspicious-document00001100017.txt  source-document00001222909.txt   \n",
              "1     suspicious-document00001100593.txt  source-document00001183668.txt   \n",
              "2      suspicious-document0000110086.txt  source-document00001405402.txt   \n",
              "3     suspicious-document00001101968.txt  source-document00001213543.txt   \n",
              "4     suspicious-document00001102809.txt  source-document00001320655.txt   \n",
              "...                                  ...                             ...   \n",
              "2744   suspicious-document0000187571.txt  source-document00001144833.txt   \n",
              "2745   suspicious-document0000187571.txt    source-document000012725.txt   \n",
              "2746   suspicious-document0000194397.txt  source-document00001307951.txt   \n",
              "2747   suspicious-document0000194397.txt  source-document00001308967.txt   \n",
              "2748   suspicious-document0000198379.txt  source-document00001293130.txt   \n",
              "\n",
              "      Label  \n",
              "0         0  \n",
              "1         0  \n",
              "2         0  \n",
              "3         0  \n",
              "4         0  \n",
              "...     ...  \n",
              "2744      1  \n",
              "2745      1  \n",
              "2746      1  \n",
              "2747      1  \n",
              "2748      1  \n",
              "\n",
              "[2749 rows x 3 columns]"
            ],
            "text/html": [
              "\n",
              "  <div id=\"df-63e95083-7030-4344-9362-18d86facab92\" class=\"colab-df-container\">\n",
              "    <div>\n",
              "<style scoped>\n",
              "    .dataframe tbody tr th:only-of-type {\n",
              "        vertical-align: middle;\n",
              "    }\n",
              "\n",
              "    .dataframe tbody tr th {\n",
              "        vertical-align: top;\n",
              "    }\n",
              "\n",
              "    .dataframe thead th {\n",
              "        text-align: right;\n",
              "    }\n",
              "</style>\n",
              "<table border=\"1\" class=\"dataframe\">\n",
              "  <thead>\n",
              "    <tr style=\"text-align: right;\">\n",
              "      <th></th>\n",
              "      <th>suspicious</th>\n",
              "      <th>source</th>\n",
              "      <th>Label</th>\n",
              "    </tr>\n",
              "  </thead>\n",
              "  <tbody>\n",
              "    <tr>\n",
              "      <th>0</th>\n",
              "      <td>suspicious-document00001100017.txt</td>\n",
              "      <td>source-document00001222909.txt</td>\n",
              "      <td>0</td>\n",
              "    </tr>\n",
              "    <tr>\n",
              "      <th>1</th>\n",
              "      <td>suspicious-document00001100593.txt</td>\n",
              "      <td>source-document00001183668.txt</td>\n",
              "      <td>0</td>\n",
              "    </tr>\n",
              "    <tr>\n",
              "      <th>2</th>\n",
              "      <td>suspicious-document0000110086.txt</td>\n",
              "      <td>source-document00001405402.txt</td>\n",
              "      <td>0</td>\n",
              "    </tr>\n",
              "    <tr>\n",
              "      <th>3</th>\n",
              "      <td>suspicious-document00001101968.txt</td>\n",
              "      <td>source-document00001213543.txt</td>\n",
              "      <td>0</td>\n",
              "    </tr>\n",
              "    <tr>\n",
              "      <th>4</th>\n",
              "      <td>suspicious-document00001102809.txt</td>\n",
              "      <td>source-document00001320655.txt</td>\n",
              "      <td>0</td>\n",
              "    </tr>\n",
              "    <tr>\n",
              "      <th>...</th>\n",
              "      <td>...</td>\n",
              "      <td>...</td>\n",
              "      <td>...</td>\n",
              "    </tr>\n",
              "    <tr>\n",
              "      <th>2744</th>\n",
              "      <td>suspicious-document0000187571.txt</td>\n",
              "      <td>source-document00001144833.txt</td>\n",
              "      <td>1</td>\n",
              "    </tr>\n",
              "    <tr>\n",
              "      <th>2745</th>\n",
              "      <td>suspicious-document0000187571.txt</td>\n",
              "      <td>source-document000012725.txt</td>\n",
              "      <td>1</td>\n",
              "    </tr>\n",
              "    <tr>\n",
              "      <th>2746</th>\n",
              "      <td>suspicious-document0000194397.txt</td>\n",
              "      <td>source-document00001307951.txt</td>\n",
              "      <td>1</td>\n",
              "    </tr>\n",
              "    <tr>\n",
              "      <th>2747</th>\n",
              "      <td>suspicious-document0000194397.txt</td>\n",
              "      <td>source-document00001308967.txt</td>\n",
              "      <td>1</td>\n",
              "    </tr>\n",
              "    <tr>\n",
              "      <th>2748</th>\n",
              "      <td>suspicious-document0000198379.txt</td>\n",
              "      <td>source-document00001293130.txt</td>\n",
              "      <td>1</td>\n",
              "    </tr>\n",
              "  </tbody>\n",
              "</table>\n",
              "<p>2749 rows × 3 columns</p>\n",
              "</div>\n",
              "    <div class=\"colab-df-buttons\">\n",
              "\n",
              "  <div class=\"colab-df-container\">\n",
              "    <button class=\"colab-df-convert\" onclick=\"convertToInteractive('df-63e95083-7030-4344-9362-18d86facab92')\"\n",
              "            title=\"Convert this dataframe to an interactive table.\"\n",
              "            style=\"display:none;\">\n",
              "\n",
              "  <svg xmlns=\"http://www.w3.org/2000/svg\" height=\"24px\" viewBox=\"0 -960 960 960\">\n",
              "    <path d=\"M120-120v-720h720v720H120Zm60-500h600v-160H180v160Zm220 220h160v-160H400v160Zm0 220h160v-160H400v160ZM180-400h160v-160H180v160Zm440 0h160v-160H620v160ZM180-180h160v-160H180v160Zm440 0h160v-160H620v160Z\"/>\n",
              "  </svg>\n",
              "    </button>\n",
              "\n",
              "  <style>\n",
              "    .colab-df-container {\n",
              "      display:flex;\n",
              "      gap: 12px;\n",
              "    }\n",
              "\n",
              "    .colab-df-convert {\n",
              "      background-color: #E8F0FE;\n",
              "      border: none;\n",
              "      border-radius: 50%;\n",
              "      cursor: pointer;\n",
              "      display: none;\n",
              "      fill: #1967D2;\n",
              "      height: 32px;\n",
              "      padding: 0 0 0 0;\n",
              "      width: 32px;\n",
              "    }\n",
              "\n",
              "    .colab-df-convert:hover {\n",
              "      background-color: #E2EBFA;\n",
              "      box-shadow: 0px 1px 2px rgba(60, 64, 67, 0.3), 0px 1px 3px 1px rgba(60, 64, 67, 0.15);\n",
              "      fill: #174EA6;\n",
              "    }\n",
              "\n",
              "    .colab-df-buttons div {\n",
              "      margin-bottom: 4px;\n",
              "    }\n",
              "\n",
              "    [theme=dark] .colab-df-convert {\n",
              "      background-color: #3B4455;\n",
              "      fill: #D2E3FC;\n",
              "    }\n",
              "\n",
              "    [theme=dark] .colab-df-convert:hover {\n",
              "      background-color: #434B5C;\n",
              "      box-shadow: 0px 1px 3px 1px rgba(0, 0, 0, 0.15);\n",
              "      filter: drop-shadow(0px 1px 2px rgba(0, 0, 0, 0.3));\n",
              "      fill: #FFFFFF;\n",
              "    }\n",
              "  </style>\n",
              "\n",
              "    <script>\n",
              "      const buttonEl =\n",
              "        document.querySelector('#df-63e95083-7030-4344-9362-18d86facab92 button.colab-df-convert');\n",
              "      buttonEl.style.display =\n",
              "        google.colab.kernel.accessAllowed ? 'block' : 'none';\n",
              "\n",
              "      async function convertToInteractive(key) {\n",
              "        const element = document.querySelector('#df-63e95083-7030-4344-9362-18d86facab92');\n",
              "        const dataTable =\n",
              "          await google.colab.kernel.invokeFunction('convertToInteractive',\n",
              "                                                    [key], {});\n",
              "        if (!dataTable) return;\n",
              "\n",
              "        const docLinkHtml = 'Like what you see? Visit the ' +\n",
              "          '<a target=\"_blank\" href=https://colab.research.google.com/notebooks/data_table.ipynb>data table notebook</a>'\n",
              "          + ' to learn more about interactive tables.';\n",
              "        element.innerHTML = '';\n",
              "        dataTable['output_type'] = 'display_data';\n",
              "        await google.colab.output.renderOutput(dataTable, element);\n",
              "        const docLink = document.createElement('div');\n",
              "        docLink.innerHTML = docLinkHtml;\n",
              "        element.appendChild(docLink);\n",
              "      }\n",
              "    </script>\n",
              "  </div>\n",
              "\n",
              "\n",
              "<div id=\"df-c3fcae61-4140-4878-b544-282cee7e03f4\">\n",
              "  <button class=\"colab-df-quickchart\" onclick=\"quickchart('df-c3fcae61-4140-4878-b544-282cee7e03f4')\"\n",
              "            title=\"Suggest charts.\"\n",
              "            style=\"display:none;\">\n",
              "\n",
              "<svg xmlns=\"http://www.w3.org/2000/svg\" height=\"24px\"viewBox=\"0 0 24 24\"\n",
              "     width=\"24px\">\n",
              "    <g>\n",
              "        <path d=\"M19 3H5c-1.1 0-2 .9-2 2v14c0 1.1.9 2 2 2h14c1.1 0 2-.9 2-2V5c0-1.1-.9-2-2-2zM9 17H7v-7h2v7zm4 0h-2V7h2v10zm4 0h-2v-4h2v4z\"/>\n",
              "    </g>\n",
              "</svg>\n",
              "  </button>\n",
              "\n",
              "<style>\n",
              "  .colab-df-quickchart {\n",
              "    background-color: #E8F0FE;\n",
              "    border: none;\n",
              "    border-radius: 50%;\n",
              "    cursor: pointer;\n",
              "    display: none;\n",
              "    fill: #1967D2;\n",
              "    height: 32px;\n",
              "    padding: 0 0 0 0;\n",
              "    width: 32px;\n",
              "  }\n",
              "\n",
              "  .colab-df-quickchart:hover {\n",
              "    background-color: #E2EBFA;\n",
              "    box-shadow: 0px 1px 2px rgba(60, 64, 67, 0.3), 0px 1px 3px 1px rgba(60, 64, 67, 0.15);\n",
              "    fill: #174EA6;\n",
              "  }\n",
              "\n",
              "  [theme=dark] .colab-df-quickchart {\n",
              "    background-color: #3B4455;\n",
              "    fill: #D2E3FC;\n",
              "  }\n",
              "\n",
              "  [theme=dark] .colab-df-quickchart:hover {\n",
              "    background-color: #434B5C;\n",
              "    box-shadow: 0px 1px 3px 1px rgba(0, 0, 0, 0.15);\n",
              "    filter: drop-shadow(0px 1px 2px rgba(0, 0, 0, 0.3));\n",
              "    fill: #FFFFFF;\n",
              "  }\n",
              "</style>\n",
              "\n",
              "  <script>\n",
              "    async function quickchart(key) {\n",
              "      const charts = await google.colab.kernel.invokeFunction(\n",
              "          'suggestCharts', [key], {});\n",
              "    }\n",
              "    (() => {\n",
              "      let quickchartButtonEl =\n",
              "        document.querySelector('#df-c3fcae61-4140-4878-b544-282cee7e03f4 button');\n",
              "      quickchartButtonEl.style.display =\n",
              "        google.colab.kernel.accessAllowed ? 'block' : 'none';\n",
              "    })();\n",
              "  </script>\n",
              "</div>\n",
              "    </div>\n",
              "  </div>\n"
            ]
          },
          "metadata": {},
          "execution_count": 177
        }
      ]
    },
    {
      "cell_type": "code",
      "source": [
        "def jaccard_similarity(list1, list2):\n",
        "\n",
        "    set1 = set(list1)\n",
        "    set2 = set(list2)\n",
        "    intersection = set1.intersection(set2)\n",
        "    union = set1.union(set2)\n",
        "\n",
        "    return len(intersection)/len(union)"
      ],
      "metadata": {
        "id": "J9ulpU4GNvvF"
      },
      "execution_count": 179,
      "outputs": []
    },
    {
      "cell_type": "code",
      "source": [
        "def sent_representation(path):\n",
        "\n",
        "    sentence_rep = []\n",
        "\n",
        "    for sent in tokens_nonstop[path]:\n",
        "        sent_rep = np.zeros(100)\n",
        "        for token in sent:\n",
        "            sent_rep += model1.wv[token]\n",
        "\n",
        "        if len(sent) != 0:\n",
        "            sent_rep /= len(sent)\n",
        "\n",
        "        sentence_rep += [sent_rep]\n",
        "\n",
        "    return sentence_rep"
      ],
      "metadata": {
        "id": "kkBSU5GUNxzN"
      },
      "execution_count": 180,
      "outputs": []
    },
    {
      "cell_type": "code",
      "source": [
        "def classifier(susp_path, plag_path):\n",
        "\n",
        "    susp_sent_rep = sent_representation(susp_path)\n",
        "    plag_sent_rep = sent_representation(plag_path)\n",
        "    counter = 0\n",
        "\n",
        "    for idx1 in range(len(susp_sent_rep)):\n",
        "        for idx2 in range(len(plag_sent_rep)):\n",
        "            cos_sim = cosine_similarity(susp_sent_rep[idx1].reshape(1, -1), plag_sent_rep[idx2].reshape(1, -1))[0][0]\n",
        "            if cos_sim >= 0.3:\n",
        "                if jaccard_similarity(tokens_nonstop[susp_path][idx1], tokens_nonstop[plag_path][idx2]) >= 0.2:\n",
        "                    counter += 1\n",
        "\n",
        "    # if counter >= (0.05 * len(susp_sent_rep)):\n",
        "    if counter > 0:\n",
        "        return 1\n",
        "    else:\n",
        "        return 0"
      ],
      "metadata": {
        "id": "_THexdLuQGe9"
      },
      "execution_count": 181,
      "outputs": []
    },
    {
      "cell_type": "code",
      "source": [
        "acc = 0\n",
        "\n",
        "h = 0\n",
        "\n",
        "for index, row in df.iterrows():\n",
        "    h += 1\n",
        "    if h % 150 == 0:\n",
        "        print(h)\n",
        "    susp_path = os.path.join(folder_path[1], row['suspicious'])\n",
        "    plag_path = os.path.join(folder_path[0], row['source'])\n",
        "\n",
        "    label = row['Label']\n",
        "\n",
        "    if classifier(susp_path, plag_path) == label:\n",
        "        acc += 1"
      ],
      "metadata": {
        "colab": {
          "base_uri": "https://localhost:8080/"
        },
        "id": "H9NQ-eP9OS2E",
        "outputId": "5a65fda3-8eda-4959-a755-7a29e2f17764"
      },
      "execution_count": 182,
      "outputs": [
        {
          "output_type": "stream",
          "name": "stdout",
          "text": [
            "150\n",
            "300\n",
            "450\n",
            "600\n",
            "750\n",
            "900\n",
            "1050\n",
            "1200\n",
            "1350\n",
            "1500\n",
            "1650\n",
            "1800\n",
            "1950\n",
            "2100\n",
            "2250\n",
            "2400\n",
            "2550\n",
            "2700\n"
          ]
        }
      ]
    },
    {
      "cell_type": "code",
      "source": [
        "print('Accuracy : ', acc / df.shape[0])"
      ],
      "metadata": {
        "colab": {
          "base_uri": "https://localhost:8080/"
        },
        "id": "zxAGHTqRdHcn",
        "outputId": "12829878-7f98-46b3-eea8-088d7c84729e"
      },
      "execution_count": 199,
      "outputs": [
        {
          "output_type": "stream",
          "name": "stdout",
          "text": [
            "Accuracy :  0.9054201527828302\n"
          ]
        }
      ]
    },
    {
      "cell_type": "markdown",
      "source": [
        "find 5 most similar sources to suspicious Doc"
      ],
      "metadata": {
        "id": "mw_pUXriCjGV"
      }
    },
    {
      "cell_type": "code",
      "source": [
        "susp_path = os.path.join(folder_path[1], 'suspicious-document0000194397.txt')"
      ],
      "metadata": {
        "id": "Lr082OuU6qa9"
      },
      "execution_count": 193,
      "outputs": []
    },
    {
      "cell_type": "code",
      "source": [
        "Documents_paths = []\n",
        "\n",
        "\n",
        "for root, dirs, files in os.walk('PersianPlagdet2016-text-alignment-train-corpus/src/'):\n",
        "      for file in files:\n",
        "          if file.endswith(\".txt\"):\n",
        "              Documents_paths.append(os.path.join(root, file))"
      ],
      "metadata": {
        "id": "mzQasKQo_C_k"
      },
      "execution_count": 194,
      "outputs": []
    },
    {
      "cell_type": "code",
      "source": [
        "susp_path"
      ],
      "metadata": {
        "colab": {
          "base_uri": "https://localhost:8080/",
          "height": 36
        },
        "id": "18J3frYB_GBE",
        "outputId": "4b9a5ee1-fe0d-4136-ab76-f3d53a9795e8"
      },
      "execution_count": 195,
      "outputs": [
        {
          "output_type": "execute_result",
          "data": {
            "text/plain": [
              "'PersianPlagdet2016-text-alignment-train-corpus/susp/suspicious-document0000194397.txt'"
            ],
            "application/vnd.google.colaboratory.intrinsic+json": {
              "type": "string"
            }
          },
          "metadata": {},
          "execution_count": 195
        }
      ]
    },
    {
      "cell_type": "code",
      "source": [
        "susp_sent_rep = sent_representation(susp_path)\n",
        "\n",
        "Doc_sent_rep = {}\n",
        "\n",
        "for path in Documents_paths:\n",
        "    Doc_sent_rep[path] = sent_representation(path)"
      ],
      "metadata": {
        "id": "Iv_6fbRa61wz"
      },
      "execution_count": 196,
      "outputs": []
    },
    {
      "cell_type": "code",
      "source": [
        "counter = []\n",
        "\n",
        "for path in tqdm.tqdm(Documents_paths):\n",
        "    c = 0\n",
        "    for idx1 in range(len(susp_sent_rep)):\n",
        "        for idx2 in range(len(Doc_sent_rep[path])):\n",
        "\n",
        "            cos_sim = cosine_similarity(susp_sent_rep[idx1].reshape(1, -1), Doc_sent_rep[path][idx2].reshape(1, -1))[0][0]\n",
        "\n",
        "            if cos_sim >= 0.3:\n",
        "                if jaccard_similarity(tokens_nonstop[susp_path][idx1], tokens_nonstop[path][idx2]) >= 0.2:\n",
        "                    c += 1\n",
        "\n",
        "    counter += [c]"
      ],
      "metadata": {
        "colab": {
          "base_uri": "https://localhost:8080/"
        },
        "id": "toi14Mc4CNpe",
        "outputId": "212efb02-776b-4939-c603-3cd3cc97ed32"
      },
      "execution_count": 197,
      "outputs": [
        {
          "output_type": "stream",
          "name": "stderr",
          "text": [
            "100%|██████████| 1563/1563 [15:35<00:00,  1.67it/s]\n"
          ]
        }
      ]
    },
    {
      "cell_type": "code",
      "source": [
        "counter = np.array(counter)\n",
        "\n",
        "top_5_indices = np.argsort(counter)[::-1][:5]\n",
        "top_5_values = counter[top_5_indices]\n",
        "\n",
        "for i in range(5):\n",
        "    print(' (', Documents_paths[top_5_indices[i]], ') -> ', top_5_values[i])"
      ],
      "metadata": {
        "colab": {
          "base_uri": "https://localhost:8080/"
        },
        "id": "fqSkZow-FNpq",
        "outputId": "e9a8f56a-2f7a-477b-8967-f36b27cb2286"
      },
      "execution_count": 198,
      "outputs": [
        {
          "output_type": "stream",
          "name": "stdout",
          "text": [
            " ( PersianPlagdet2016-text-alignment-train-corpus/src/source-document00001404542.txt ) ->  10\n",
            " ( PersianPlagdet2016-text-alignment-train-corpus/src/source-document00001307951.txt ) ->  9\n",
            " ( PersianPlagdet2016-text-alignment-train-corpus/src/source-document00001305979.txt ) ->  6\n",
            " ( PersianPlagdet2016-text-alignment-train-corpus/src/source-document00001308967.txt ) ->  6\n",
            " ( PersianPlagdet2016-text-alignment-train-corpus/src/source-document00001303908.txt ) ->  6\n"
          ]
        }
      ]
    },
    {
      "cell_type": "code",
      "source": [],
      "metadata": {
        "id": "WxOS8Y_kIAqe"
      },
      "execution_count": null,
      "outputs": []
    }
  ]
}